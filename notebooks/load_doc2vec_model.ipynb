{
 "cells": [
  {
   "cell_type": "code",
   "execution_count": 18,
   "id": "right-fitting",
   "metadata": {},
   "outputs": [],
   "source": [
    "from gensim.models.doc2vec import Doc2Vec, TaggedDocument\n",
    "import nltk\n",
    "from nltk.corpus import stopwords\n",
    "import pandas as pd\n",
    "from sqlalchemy import create_engine\n",
    "import json\n",
    "import pickle\n",
    "import string"
   ]
  },
  {
   "cell_type": "code",
   "execution_count": 5,
   "id": "innocent-rider",
   "metadata": {},
   "outputs": [],
   "source": [
    "with open('../secrets.json') as file:\n",
    "    secrets = json.load(file)\n",
    "    connection_string = secrets['connection_string']\n",
    "db = create_engine(connection_string)\n",
    "df = pd.read_sql('select * from news_article', con=db)"
   ]
  },
  {
   "cell_type": "markdown",
   "id": "spatial-skiing",
   "metadata": {},
   "source": [
    "load the tag lookups"
   ]
  },
  {
   "cell_type": "code",
   "execution_count": 10,
   "id": "continuous-snake",
   "metadata": {},
   "outputs": [],
   "source": [
    "with open('models/doc2vec/tag_lookup.pickle', 'rb') as f:\n",
    "    tag_lookup = pickle.load(f)"
   ]
  },
  {
   "cell_type": "code",
   "execution_count": 16,
   "id": "attended-ozone",
   "metadata": {},
   "outputs": [],
   "source": [
    "def clean_headline(headline):\n",
    "    stop_words = set(stopwords.words('english'))\n",
    "    return [word for word in nltk.word_tokenize(headline) if word not in stop_words and word not in string.punctuation]"
   ]
  },
  {
   "cell_type": "code",
   "execution_count": 25,
   "id": "under-handling",
   "metadata": {},
   "outputs": [
    {
     "name": "stdout",
     "output_type": "stream",
     "text": [
      "A third of COVID survivors suffer neurological or mental disorders: study\n",
      "\n",
      "0: A third of COVID survivors suffer neurological or mental disorders: study\n",
      "1: Saudi Arabia textbooks revised to be more tolerant - study\n",
      "2: Dark hair was common among Vikings, genetic study confirms\n",
      "3: COVID has worsened inequality even as the rich thrive: Oxfam\n",
      "4: Lung damage found in COVID dead may shed light on 'long COVID' - study\n",
      "5: Trained dogs were able to sniff out Covid-19 infections with 94% accuracy: study\n",
      "6: Nurses suffer burn-out, psychological distress in COVID fight - association\n",
      "7: Brazilian supreme court rules against COVID anti-vaxxers\n",
      "8: 'Ultra-Processed' Junk Food Linked to Advanced Ageing at Cellular Level, Study Finds\n",
      "9: Kenyan recycles plastic waste into bricks stronger than concrete\n"
     ]
    }
   ],
   "source": [
    "loaded_model = Doc2Vec.load('models/doc2vec/headline_model')\n",
    "\n",
    "new_headline = df['headline'][1]\n",
    "new_clean_headline = clean_headline(new_headline)\n",
    "similar = loaded_model.docvecs.most_similar(positive=[loaded_model.infer_vector(new_clean_headline)],topn=10)\n",
    "similar.pop(0)\n",
    "\n",
    "print(f'{new_headline}\\n')\n",
    "\n",
    "# show similar headlines\n",
    "for i, s in enumerate(similar):\n",
    "    print(f'{i}: {tag_lookup[s[0]]}')"
   ]
  },
  {
   "cell_type": "code",
   "execution_count": 28,
   "id": "awful-indianapolis",
   "metadata": {},
   "outputs": [
    {
     "data": {
      "text/plain": [
       "[('SENT_1', 0.8566992282867432),\n",
       " ('SENT_4395', 0.679485559463501),\n",
       " ('SENT_3058', 0.6482951045036316),\n",
       " ('SENT_4947', 0.6393500566482544),\n",
       " ('SENT_3756', 0.6218814253807068),\n",
       " ('SENT_2304', 0.6097638607025146),\n",
       " ('SENT_3377', 0.6091350317001343),\n",
       " ('SENT_4428', 0.5976349115371704),\n",
       " ('SENT_2829', 0.5806622505187988),\n",
       " ('SENT_5064', 0.5766493678092957)]"
      ]
     },
     "execution_count": 28,
     "metadata": {},
     "output_type": "execute_result"
    }
   ],
   "source": [
    "similar"
   ]
  }
 ],
 "metadata": {
  "kernelspec": {
   "display_name": "Python 3",
   "language": "python",
   "name": "python3"
  },
  "language_info": {
   "codemirror_mode": {
    "name": "ipython",
    "version": 3
   },
   "file_extension": ".py",
   "mimetype": "text/x-python",
   "name": "python",
   "nbconvert_exporter": "python",
   "pygments_lexer": "ipython3",
   "version": "3.8.5"
  }
 },
 "nbformat": 4,
 "nbformat_minor": 5
}
