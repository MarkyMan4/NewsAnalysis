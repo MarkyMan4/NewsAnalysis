{
 "cells": [
  {
   "cell_type": "code",
   "execution_count": 18,
   "id": "hairy-fifteen",
   "metadata": {},
   "outputs": [],
   "source": [
    "from gensim.models.doc2vec import Doc2Vec, TaggedDocument\n",
    "import nltk\n",
    "from nltk.corpus import stopwords\n",
    "import pandas as pd\n",
    "from sqlalchemy import create_engine\n",
    "import json\n",
    "import pickle\n",
    "import string"
   ]
  },
  {
   "cell_type": "code",
   "execution_count": 5,
   "id": "mobile-wichita",
   "metadata": {},
   "outputs": [],
   "source": [
    "with open('../secrets.json') as file:\n",
    "    secrets = json.load(file)\n",
    "    connection_string = secrets['connection_string']\n",
    "db = create_engine(connection_string)\n",
    "df = pd.read_sql('select * from news_article', con=db)"
   ]
  },
  {
   "cell_type": "markdown",
   "id": "universal-latino",
   "metadata": {},
   "source": [
    "load the tag lookups"
   ]
  },
  {
   "cell_type": "code",
   "execution_count": 10,
   "id": "coordinate-acrobat",
   "metadata": {},
   "outputs": [],
   "source": [
    "with open('models/doc2vec/tag_lookup.pickle', 'rb') as f:\n",
    "    tag_lookup = pickle.load(f)"
   ]
  },
  {
   "cell_type": "code",
   "execution_count": 16,
   "id": "czech-franklin",
   "metadata": {},
   "outputs": [],
   "source": [
    "def clean_headline(headline):\n",
    "    stop_words = set(stopwords.words('english'))\n",
    "    return [word for word in nltk.word_tokenize(headline) if word not in stop_words and word not in string.punctuation]"
   ]
  },
  {
   "cell_type": "code",
   "execution_count": 21,
   "id": "purple-register",
   "metadata": {},
   "outputs": [
    {
     "name": "stdout",
     "output_type": "stream",
     "text": [
      "A third of COVID survivors suffer neurological or mental disorders: study\n",
      "\n",
      "0: Saudi Arabia textbooks revised to be more tolerant - study\n",
      "1: Dark hair was common among Vikings, genetic study confirms\n",
      "2: COVID has worsened inequality even as the rich thrive: Oxfam\n",
      "3: Lung damage found in COVID dead may shed light on 'long COVID' - study\n",
      "4: Trained dogs were able to sniff out Covid-19 infections with 94% accuracy: study\n"
     ]
    }
   ],
   "source": [
    "loaded_model = Doc2Vec.load('models/doc2vec/headline_model')\n",
    "\n",
    "new_headline = df['headline'][1]\n",
    "new_clean_headline = clean_headline(new_headline)\n",
    "similar = loaded_model.docvecs.most_similar(positive=[loaded_model.infer_vector(new_clean_headline)],topn=6)\n",
    "similar.pop(0)\n",
    "\n",
    "print(f'{new_headline}\\n')\n",
    "\n",
    "# show similar headlines\n",
    "for i, s in enumerate(similar):\n",
    "    print(f'{i}: {tag_lookup[s[0]]}')"
   ]
  },
  {
   "cell_type": "code",
   "execution_count": null,
   "id": "tender-wholesale",
   "metadata": {},
   "outputs": [],
   "source": []
  }
 ],
 "metadata": {
  "kernelspec": {
   "display_name": "Python 3",
   "language": "python",
   "name": "python3"
  },
  "language_info": {
   "codemirror_mode": {
    "name": "ipython",
    "version": 3
   },
   "file_extension": ".py",
   "mimetype": "text/x-python",
   "name": "python",
   "nbconvert_exporter": "python",
   "pygments_lexer": "ipython3",
   "version": "3.8.5"
  }
 },
 "nbformat": 4,
 "nbformat_minor": 5
}
