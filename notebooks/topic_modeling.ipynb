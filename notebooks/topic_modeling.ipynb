{
 "cells": [
  {
   "cell_type": "markdown",
   "id": "indonesian-remark",
   "metadata": {},
   "source": [
    "# Topic Modeling\n",
    "Topic modeling is necessary so that news articles can be grouped by topic. This will provide additional ways to filter through the articles within the app."
   ]
  },
  {
   "cell_type": "code",
   "execution_count": 1,
   "id": "patient-hierarchy",
   "metadata": {},
   "outputs": [],
   "source": [
    "import pandas as pd\n",
    "from sqlalchemy import create_engine\n",
    "import nltk\n",
    "from nltk.tokenize import word_tokenize\n",
    "import json"
   ]
  },
  {
   "cell_type": "code",
   "execution_count": 2,
   "id": "broken-assembly",
   "metadata": {
    "scrolled": true
   },
   "outputs": [
    {
     "data": {
      "text/html": [
       "<div>\n",
       "<style scoped>\n",
       "    .dataframe tbody tr th:only-of-type {\n",
       "        vertical-align: middle;\n",
       "    }\n",
       "\n",
       "    .dataframe tbody tr th {\n",
       "        vertical-align: top;\n",
       "    }\n",
       "\n",
       "    .dataframe thead th {\n",
       "        text-align: right;\n",
       "    }\n",
       "</style>\n",
       "<table border=\"1\" class=\"dataframe\">\n",
       "  <thead>\n",
       "    <tr style=\"text-align: right;\">\n",
       "      <th></th>\n",
       "      <th>id</th>\n",
       "      <th>post_id</th>\n",
       "      <th>post_title</th>\n",
       "      <th>url</th>\n",
       "      <th>score</th>\n",
       "      <th>publisher</th>\n",
       "      <th>headline</th>\n",
       "      <th>date_published</th>\n",
       "      <th>content</th>\n",
       "    </tr>\n",
       "  </thead>\n",
       "  <tbody>\n",
       "    <tr>\n",
       "      <th>0</th>\n",
       "      <td>1</td>\n",
       "      <td>fra8wl</td>\n",
       "      <td>Top US general resists Trump administration?s ...</td>\n",
       "      <td>https://mondoweiss.net/2020/03/top-u-s-general...</td>\n",
       "      <td>10285</td>\n",
       "      <td>mondoweiss</td>\n",
       "      <td>Top U.S. general resists Trump administration?...</td>\n",
       "      <td>2020-03-28 15:44:00</td>\n",
       "      <td>A brave U.S. army lieutenant general may be ri...</td>\n",
       "    </tr>\n",
       "    <tr>\n",
       "      <th>1</th>\n",
       "      <td>2</td>\n",
       "      <td>frcvgj</td>\n",
       "      <td>Experts believe the explosion of coronavirus c...</td>\n",
       "      <td>https://www.si.com/soccer/2020/03/25/atalanta-...</td>\n",
       "      <td>2854</td>\n",
       "      <td>si</td>\n",
       "      <td>Atalanta vs Valencia linked to accelerating co...</td>\n",
       "      <td>2020-03-25 00:00:00</td>\n",
       "      <td>ROME (AP) ? It was the biggest soccer game in ...</td>\n",
       "    </tr>\n",
       "    <tr>\n",
       "      <th>2</th>\n",
       "      <td>3</td>\n",
       "      <td>fr5uqd</td>\n",
       "      <td>Boris Johnson's government is reportedly furio...</td>\n",
       "      <td>https://www.businessinsider.com/coronavirus-bo...</td>\n",
       "      <td>79397</td>\n",
       "      <td>businessinsider</td>\n",
       "      <td>Boris Johnson's government is reportedly furio...</td>\n",
       "      <td>2020-03-29 00:00:00</td>\n",
       "      <td>UK government officials say there'll be \"recko...</td>\n",
       "    </tr>\n",
       "    <tr>\n",
       "      <th>3</th>\n",
       "      <td>4</td>\n",
       "      <td>fr7uzc</td>\n",
       "      <td>Toyota Gearing Up To Build Ventilators And Fac...</td>\n",
       "      <td>https://www.carscoops.com/2020/03/toyota-geari...</td>\n",
       "      <td>4988</td>\n",
       "      <td>carscoops</td>\n",
       "      <td>Toyota Gearing Up To Build Ventilators And Fac...</td>\n",
       "      <td>2020-03-27 22:36:00</td>\n",
       "      <td>The United States will soon have over 100,000 ...</td>\n",
       "    </tr>\n",
       "    <tr>\n",
       "      <th>4</th>\n",
       "      <td>5</td>\n",
       "      <td>frbkqr</td>\n",
       "      <td>Prime Minister Justin Trudeau says Health Cana...</td>\n",
       "      <td>https://www.ctvnews.ca/health/coronavirus/trud...</td>\n",
       "      <td>2341</td>\n",
       "      <td>ctvnews</td>\n",
       "      <td>Trudeau vows 'no corners cut' in accepting mas...</td>\n",
       "      <td>2020-03-29 13:04:00</td>\n",
       "      <td>TORONTO -- Prime Minister Justin Trudeau says ...</td>\n",
       "    </tr>\n",
       "    <tr>\n",
       "      <th>...</th>\n",
       "      <td>...</td>\n",
       "      <td>...</td>\n",
       "      <td>...</td>\n",
       "      <td>...</td>\n",
       "      <td>...</td>\n",
       "      <td>...</td>\n",
       "      <td>...</td>\n",
       "      <td>...</td>\n",
       "      <td>...</td>\n",
       "    </tr>\n",
       "    <tr>\n",
       "      <th>5550</th>\n",
       "      <td>5567</td>\n",
       "      <td>m4cvt7</td>\n",
       "      <td>Far-Right Bolivia Coup Leader Jeanine Añez Arr...</td>\n",
       "      <td>https://www.commondreams.org/news/2021/03/13/f...</td>\n",
       "      <td>1791</td>\n",
       "      <td>commondreams</td>\n",
       "      <td>Far-Right Bolivia Coup Leader Jeanine Añez Arr...</td>\n",
       "      <td>2021-03-13 00:00:00</td>\n",
       "      <td>Far-right Bolivian politician Jeanine Añez was...</td>\n",
       "    </tr>\n",
       "    <tr>\n",
       "      <th>5551</th>\n",
       "      <td>5568</td>\n",
       "      <td>m4a8ri</td>\n",
       "      <td>Men in uniform slaughtered dozens of people in...</td>\n",
       "      <td>https://observers.france24.com/en/africa/20210...</td>\n",
       "      <td>1362</td>\n",
       "      <td>france24</td>\n",
       "      <td>Ethiopia: video of Tigray massacre lifts lid o...</td>\n",
       "      <td>2021-03-12 00:00:00</td>\n",
       "      <td>Screengrab of the video, filmed in the village...</td>\n",
       "    </tr>\n",
       "    <tr>\n",
       "      <th>5552</th>\n",
       "      <td>5569</td>\n",
       "      <td>m4ai8h</td>\n",
       "      <td>Western Australia Election 2021: Labor has sta...</td>\n",
       "      <td>https://www.news.com.au/national/western-austr...</td>\n",
       "      <td>622</td>\n",
       "      <td>news</td>\n",
       "      <td>WA Election 2021: Historic landslide win retur...</td>\n",
       "      <td>2021-03-13 15:31:00</td>\n",
       "      <td>Re-elected Western Australian Premier Mark McG...</td>\n",
       "    </tr>\n",
       "    <tr>\n",
       "      <th>5553</th>\n",
       "      <td>5570</td>\n",
       "      <td>m44l44</td>\n",
       "      <td>Indigenous People Not Invited to UN Biodiversi...</td>\n",
       "      <td>https://www.ecowatch.com/un-biodiversity-talks...</td>\n",
       "      <td>1362</td>\n",
       "      <td>ecowatch</td>\n",
       "      <td>Indigenous People Not Invited to UN Biodiversi...</td>\n",
       "      <td>2021-03-12 16:19:06</td>\n",
       "      <td>Aiming to preserve 30 percent of the world's l...</td>\n",
       "    </tr>\n",
       "    <tr>\n",
       "      <th>5554</th>\n",
       "      <td>5571</td>\n",
       "      <td>m4a0vk</td>\n",
       "      <td>London police officer charged with murder of S...</td>\n",
       "      <td>https://www.cnn.com/2021/03/13/uk/sarah-everar...</td>\n",
       "      <td>439</td>\n",
       "      <td>cnn</td>\n",
       "      <td>London police officer charged with murder of S...</td>\n",
       "      <td>2021-03-13 00:00:00</td>\n",
       "      <td>London (CNN) A London Metropolitan Police offi...</td>\n",
       "    </tr>\n",
       "  </tbody>\n",
       "</table>\n",
       "<p>5555 rows × 9 columns</p>\n",
       "</div>"
      ],
      "text/plain": [
       "        id post_id                                         post_title  \\\n",
       "0        1  fra8wl  Top US general resists Trump administration?s ...   \n",
       "1        2  frcvgj  Experts believe the explosion of coronavirus c...   \n",
       "2        3  fr5uqd  Boris Johnson's government is reportedly furio...   \n",
       "3        4  fr7uzc  Toyota Gearing Up To Build Ventilators And Fac...   \n",
       "4        5  frbkqr  Prime Minister Justin Trudeau says Health Cana...   \n",
       "...    ...     ...                                                ...   \n",
       "5550  5567  m4cvt7  Far-Right Bolivia Coup Leader Jeanine Añez Arr...   \n",
       "5551  5568  m4a8ri  Men in uniform slaughtered dozens of people in...   \n",
       "5552  5569  m4ai8h  Western Australia Election 2021: Labor has sta...   \n",
       "5553  5570  m44l44  Indigenous People Not Invited to UN Biodiversi...   \n",
       "5554  5571  m4a0vk  London police officer charged with murder of S...   \n",
       "\n",
       "                                                    url  score  \\\n",
       "0     https://mondoweiss.net/2020/03/top-u-s-general...  10285   \n",
       "1     https://www.si.com/soccer/2020/03/25/atalanta-...   2854   \n",
       "2     https://www.businessinsider.com/coronavirus-bo...  79397   \n",
       "3     https://www.carscoops.com/2020/03/toyota-geari...   4988   \n",
       "4     https://www.ctvnews.ca/health/coronavirus/trud...   2341   \n",
       "...                                                 ...    ...   \n",
       "5550  https://www.commondreams.org/news/2021/03/13/f...   1791   \n",
       "5551  https://observers.france24.com/en/africa/20210...   1362   \n",
       "5552  https://www.news.com.au/national/western-austr...    622   \n",
       "5553  https://www.ecowatch.com/un-biodiversity-talks...   1362   \n",
       "5554  https://www.cnn.com/2021/03/13/uk/sarah-everar...    439   \n",
       "\n",
       "            publisher                                           headline  \\\n",
       "0          mondoweiss  Top U.S. general resists Trump administration?...   \n",
       "1                  si  Atalanta vs Valencia linked to accelerating co...   \n",
       "2     businessinsider  Boris Johnson's government is reportedly furio...   \n",
       "3           carscoops  Toyota Gearing Up To Build Ventilators And Fac...   \n",
       "4             ctvnews  Trudeau vows 'no corners cut' in accepting mas...   \n",
       "...               ...                                                ...   \n",
       "5550     commondreams  Far-Right Bolivia Coup Leader Jeanine Añez Arr...   \n",
       "5551         france24  Ethiopia: video of Tigray massacre lifts lid o...   \n",
       "5552             news  WA Election 2021: Historic landslide win retur...   \n",
       "5553         ecowatch  Indigenous People Not Invited to UN Biodiversi...   \n",
       "5554              cnn  London police officer charged with murder of S...   \n",
       "\n",
       "           date_published                                            content  \n",
       "0     2020-03-28 15:44:00  A brave U.S. army lieutenant general may be ri...  \n",
       "1     2020-03-25 00:00:00  ROME (AP) ? It was the biggest soccer game in ...  \n",
       "2     2020-03-29 00:00:00  UK government officials say there'll be \"recko...  \n",
       "3     2020-03-27 22:36:00  The United States will soon have over 100,000 ...  \n",
       "4     2020-03-29 13:04:00  TORONTO -- Prime Minister Justin Trudeau says ...  \n",
       "...                   ...                                                ...  \n",
       "5550  2021-03-13 00:00:00  Far-right Bolivian politician Jeanine Añez was...  \n",
       "5551  2021-03-12 00:00:00  Screengrab of the video, filmed in the village...  \n",
       "5552  2021-03-13 15:31:00  Re-elected Western Australian Premier Mark McG...  \n",
       "5553  2021-03-12 16:19:06  Aiming to preserve 30 percent of the world's l...  \n",
       "5554  2021-03-13 00:00:00  London (CNN) A London Metropolitan Police offi...  \n",
       "\n",
       "[5555 rows x 9 columns]"
      ]
     },
     "execution_count": 2,
     "metadata": {},
     "output_type": "execute_result"
    }
   ],
   "source": [
    "with open('../secrets.json') as file:\n",
    "    secrets = json.load(file)\n",
    "    connection_string = secrets['connection_string']\n",
    "db = create_engine(connection_string)\n",
    "df = pd.read_sql('SELECT * FROM NAP.article', con=db)\n",
    "\n",
    "df"
   ]
  },
  {
   "cell_type": "markdown",
   "id": "acceptable-formation",
   "metadata": {},
   "source": [
    "### Only looking at one article for testing"
   ]
  },
  {
   "cell_type": "code",
   "execution_count": 3,
   "id": "coastal-stress",
   "metadata": {
    "scrolled": true
   },
   "outputs": [
    {
     "data": {
      "text/plain": [
       "'London (CNN) A London Metropolitan Police officer has been charged with the kidnap and murder of 33-year-old Sarah Everard , whose disappearance on a walk home has reignited a national debate in Britain on women\\'s safety and sexual assault. Wayne Couzens, 48, appeared at Westminster Magistrates Court on Saturday for his first hearing. He has been remanded in custody and will next appear in court at the Old Bailey in London on March 16, according to Met Police. Everard disappeared on March 3 while walking in Clapham, south London, prompting an extensive police search in the area. Her remains were eventually found more than 50 miles from where she was last seen. A post-mortem examination will now take place on Everard\\'s remains. Couzens, a police constable whose \"primary role was uniformed patrol duties of diplomatic premises,\" was arrested in Kent on Tuesday. He was charged on Friday, according to a statement from Rosemary Ainslie, the CPS\\' head of special crime. The Independent Office for Police Conduct, a police watchdog agency, said in a statement on Thursday that it had started an independent investigation into police actions involving the suspect. A courtroom sketch of Wayne Couzens at Westminster Magistrates\\' Court in London on Saturday, March 13. Everard\\'s disappearance has prompted thousands of women to share their own experiences of intimidation or harassment while walking alone at night across the country -- and around the world. Many also exchanged notes on the habitual precautions they take to try to stay safe when they walk alone -- like clutching keys between their knuckles, pretending to talk to someone on the phone, or not wearing headphones at night -- and voiced their anger and frustration that it feels like a necessary step. Catherine, the Duchess of Cambridge, remembers what it felt like to walk around London at night before she got married, a royal source said. The duchess made a private visit to the memorial for Everard in Clapham on Saturday, the source said. She wanted to pay her respects to Everard and her family. In a statement on Friday, the Met said that in \"the interests of clarity about these exceptional events,\" it was releasing further details of Couzens\\' employment with the force. Couzens joined the Met in September 2018 and was posted to a response team covering the Bromley area in southeast London. He then moved to the Parliamentary and Diplomatic Protection Command in February 2020, where his \"primary role was on uniformed patrol duties of diplomatic premises, mainly a range of Embassies,\" the Met statement said. Nick Ephgrave, assistant commissioner of the Metropolitan Police, said on Friday that he understood that \"women in London and the wider public, particularly those in the area where Sarah went missing, will be worried and may well be feeling frightened,\" and that Londoners could expect to see a rise in officers on the streets in the coming days. \"I know that the public feels hurt and angry about what has happened. And those are sentiments that I share personally, and I know my colleagues here at Scotland Yard and across the Met share as well,\" Ephgrave said. \\'Reclaim the Streets\\' A series of vigils had been planned Saturday across the country, but the \"Reclaim These Streets\" events were canceled after London Police said the Clapham vigil couldn\\'t go ahead, citing coronavirus restrictions, the organizers said in a statement Saturday. A large crowd of mourners gathered for hours Saturday evening anyway at a makeshift memorial in Clapham, where Everard was last seen. Crowds gather at a makeshift memorial to Everard in Clapham in south London, where she was last seen. The crowd observed a moment of silence. Some placed flowers and candles, and chanted, \"We remember Sarah Everard\" and \"sisters united will never be defeated.\" As police began urging the crowd to disperse due to Covid-19 restrictions, mourners could be heard chanting \"shame on you\" and \"arrest your own.\" Organizers told CNN that police and local officials have allowed another vigil to be held Saturday evening to commemorate Everard and other women who have been murdered by men. That was held in Brixton, where Everard lived, but most people stayed at the larger gathering in Clapham. The \"Reclaim These Streets\" organizers said they will be raising £32,000 (approximately US $44,544) for women\\'s causes, which would also cover £10,000 (around US $13,920) of possible fines for the 32 vigils that had been scheduled across the country. Mourners laid flowers and put down candles at the memorial in Clapham. On Saturday, the Greater Manchester Police (GMP) said they supported a vigil that has been planned in Manchester, saying in a statement that \"women should never have to live in fear or change their behavior to keep themselves safe on our streets and GMP stands with this message and understands why events were planned in support of it.\" \"We understand there are a number of online events as well as a doorstep vigil that have been arranged for this evening and GMP absolutely supports these and encourages our communities to join them -- they allow people to stand together over this important matter in a Covid-safe way and in a way which complies with government regulations as they currently stand,\" it said. Feeling unsafe in public places In the UK, instances of abduction are relatively rare, but new polling indicates that sexual harassment and abuse are not. Over 70% of women surveyed by UN Women UK said they had experienced sexual harassment in public spaces. That figure rose to 97% among women aged 18 to 24, polling showed. The data, released Wednesday, was drawn from a YouGov survey of more than 1,000 women commissioned by UN Women UK in January 2021. The organization\\'s polling also suggested that women have little faith in public institutions to tackle the situation. \"Only 4% of women told us they reported the incidents of harassment to an official organization -- with 45% of women saying they didn\\'t believe reporting would help change anything,\" UN Women UK said. Women are not alone in feeling under threat on the streets; men are more likely to be the victims of violent crime involving strangers and acquaintances than are women, according to the annual Crime Survey for England and Wales, published by the UK Office for National Statistics (ONS). But government data show that men are far more likely to be prosecuted for acts of violence against both women and men. Over the three-year period ending March 2020, the vast majority of suspects convicted of homicide were male -- 93% of the total, according to an ONS report on homicide.'"
      ]
     },
     "execution_count": 3,
     "metadata": {},
     "output_type": "execute_result"
    }
   ],
   "source": [
    "article = df.iloc[-1]['content']\n",
    "article"
   ]
  },
  {
   "cell_type": "markdown",
   "id": "nearby-scholar",
   "metadata": {},
   "source": [
    "### get words from the article"
   ]
  },
  {
   "cell_type": "code",
   "execution_count": 4,
   "id": "racial-literature",
   "metadata": {},
   "outputs": [
    {
     "data": {
      "text/plain": [
       "<Text: London ( CNN ) A London Metropolitan Police...>"
      ]
     },
     "execution_count": 4,
     "metadata": {},
     "output_type": "execute_result"
    }
   ],
   "source": [
    "tokens = word_tokenize(article)\n",
    "text = nltk.Text(tokens)\n",
    "text"
   ]
  },
  {
   "cell_type": "markdown",
   "id": "reserved-nature",
   "metadata": {},
   "source": [
    "### Show the collacations\n",
    "These are words that appeared consecutively in the text. More specifically, words that appear consecutively and not by chance, so they have meaning when put together."
   ]
  },
  {
   "cell_type": "code",
   "execution_count": 9,
   "id": "marked-celtic",
   "metadata": {},
   "outputs": [
    {
     "name": "stdout",
     "output_type": "stream",
     "text": [
      "last seen; Westminster Magistrates; diplomatic premises; patrol\n",
      "duties; primary role; uniformed patrol; makeshift memorial; Wayne\n",
      "Couzens; Metropolitan Police; sexual harassment; south London;\n",
      "organizers said; source said; Saturday evening; Sarah Everard\n"
     ]
    }
   ],
   "source": [
    "text.collocations()"
   ]
  }
 ],
 "metadata": {
  "kernelspec": {
   "display_name": "Python 3",
   "language": "python",
   "name": "python3"
  },
  "language_info": {
   "codemirror_mode": {
    "name": "ipython",
    "version": 3
   },
   "file_extension": ".py",
   "mimetype": "text/x-python",
   "name": "python",
   "nbconvert_exporter": "python",
   "pygments_lexer": "ipython3",
   "version": "3.8.5"
  }
 },
 "nbformat": 4,
 "nbformat_minor": 5
}
