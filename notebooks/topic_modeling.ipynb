{
 "cells": [
  {
   "cell_type": "markdown",
   "id": "sound-sheriff",
   "metadata": {},
   "source": [
    "# Topic Modeling\n",
    "Topic modeling is necessary so that news articles can be grouped by topic. This will provide additional ways to filter through the articles within the app."
   ]
  },
  {
   "cell_type": "code",
   "execution_count": 1,
   "id": "naval-functionality",
   "metadata": {},
   "outputs": [],
   "source": [
    "import pandas as pd\n",
    "from sqlalchemy import create_engine\n",
    "import nltk\n",
    "from nltk.tokenize import word_tokenize\n",
    "from nltk.corpus import stopwords\n",
    "from nltk.stem import WordNetLemmatizer\n",
    "from nltk.stem import PorterStemmer\n",
    "from gensim.corpora import Dictionary\n",
    "from gensim.models import LdaMulticore\n",
    "from gensim.models.coherencemodel import CoherenceModel # for evaluating LDA model\n",
    "import matplotlib.pyplot as plt\n",
    "import json\n",
    "import re"
   ]
  },
  {
   "cell_type": "code",
   "execution_count": 2,
   "id": "underlying-terrain",
   "metadata": {},
   "outputs": [
    {
     "name": "stderr",
     "output_type": "stream",
     "text": [
      "[nltk_data] Downloading package wordnet to /home/markus/nltk_data...\n",
      "[nltk_data]   Package wordnet is already up-to-date!\n"
     ]
    },
    {
     "data": {
      "text/plain": [
       "True"
      ]
     },
     "execution_count": 2,
     "metadata": {},
     "output_type": "execute_result"
    }
   ],
   "source": [
    "# only need to run this once\n",
    "nltk.download('wordnet')"
   ]
  },
  {
   "cell_type": "code",
   "execution_count": 3,
   "id": "third-beast",
   "metadata": {
    "scrolled": true
   },
   "outputs": [],
   "source": [
    "with open('../secrets.json') as file:\n",
    "    secrets = json.load(file)\n",
    "    connection_string = secrets['connection_string']\n",
    "db = create_engine(connection_string)\n",
    "df = pd.read_sql('select * from news_article', con=db)"
   ]
  },
  {
   "cell_type": "markdown",
   "id": "molecular-conference",
   "metadata": {},
   "source": [
    "### code for exporting data from AWS database\n",
    "This was only needed once to move the data to the new database so this can be ignored"
   ]
  },
  {
   "cell_type": "code",
   "execution_count": 4,
   "id": "distinguished-butterfly",
   "metadata": {},
   "outputs": [],
   "source": [
    "# df['date_published'].ffill(inplace=True)\n",
    "# df = df.drop(columns='id')\n",
    "# df = df[df['content'].str.len() > 0]\n",
    "# df = df[df['headline'].str.len() > 0]\n",
    "# df.to_csv('articles.csv', index=False)"
   ]
  },
  {
   "cell_type": "markdown",
   "id": "controlled-pottery",
   "metadata": {},
   "source": [
    "### Get the content of the articles"
   ]
  },
  {
   "cell_type": "code",
   "execution_count": 5,
   "id": "practical-figure",
   "metadata": {
    "scrolled": true
   },
   "outputs": [],
   "source": [
    "# article1 = df.iloc[-1]['content']\n",
    "# article2 = df.iloc[-2]['content']\n",
    "# articles = [article1, article2]\n",
    "articles = [df.iloc[i]['content'] for i in range(len(df))]"
   ]
  },
  {
   "cell_type": "markdown",
   "id": "bridal-contents",
   "metadata": {},
   "source": [
    "### Get words from the article"
   ]
  },
  {
   "cell_type": "code",
   "execution_count": 6,
   "id": "involved-insight",
   "metadata": {},
   "outputs": [],
   "source": [
    "# tokens = word_tokenize(article)\n",
    "# text = nltk.Text(tokens)\n",
    "# text"
   ]
  },
  {
   "cell_type": "markdown",
   "id": "perfect-emperor",
   "metadata": {},
   "source": [
    "### Show the collacations\n",
    "These are words that appeared consecutively in the text. More specifically, words that appear consecutively and not by chance, so they have meaning when put together."
   ]
  },
  {
   "cell_type": "code",
   "execution_count": 7,
   "id": "mounted-nomination",
   "metadata": {},
   "outputs": [],
   "source": [
    "# text.collocations()"
   ]
  },
  {
   "cell_type": "markdown",
   "id": "indirect-begin",
   "metadata": {},
   "source": [
    "### Tokenize, lemmatize, remove stopwords, stem and discard words fewer than 3 chars\n",
    "- Tokenization involves splitting the article into words.\n",
    "- Lemmatization is getting words into a standard form. Words in third person are changed to first person and verbs are converted to present tense.\n",
    "    - ex: disapperances -> disappearance\n",
    "- Stemming is reducing words to their root form. This also converts all words to lower case.\n",
    "    - ex: disappearance -> disappear\n",
    "- Stopwords are words like \"the\", \"a\", \"an\", etc."
   ]
  },
  {
   "cell_type": "code",
   "execution_count": 8,
   "id": "radio-exclusive",
   "metadata": {
    "scrolled": true
   },
   "outputs": [],
   "source": [
    "stop_words = stopwords.words('english')\n",
    "lemmatizer = WordNetLemmatizer()\n",
    "stemmer = PorterStemmer()"
   ]
  },
  {
   "cell_type": "code",
   "execution_count": 13,
   "id": "attached-walnut",
   "metadata": {},
   "outputs": [],
   "source": [
    "def preprocess(article):\n",
    "    tokens = word_tokenize(article.lower()) # make all articles lower case\n",
    "    words = [] # words resulting from applying the filters\n",
    "\n",
    "    for token in tokens:\n",
    "        # explicity ignore 'said' because this shows up a lot in news articles\n",
    "        if len(token) > 3 and token not in stop_words and token != 'said':\n",
    "            words.append(lemmatizer.lemmatize(token))\n",
    "    \n",
    "    return words"
   ]
  },
  {
   "cell_type": "code",
   "execution_count": 14,
   "id": "desirable-clinic",
   "metadata": {},
   "outputs": [],
   "source": [
    "preprocessed_articles = [preprocess(article) for article in articles]\n",
    "# preprocessed_articles"
   ]
  },
  {
   "cell_type": "markdown",
   "id": "usual-external",
   "metadata": {},
   "source": [
    "### Create a dictionary of text and bag of words\n",
    "A bag of words is a list of tuples of the form (token id, count of token)"
   ]
  },
  {
   "cell_type": "code",
   "execution_count": 15,
   "id": "representative-volunteer",
   "metadata": {
    "scrolled": true
   },
   "outputs": [],
   "source": [
    "dictionary = Dictionary(preprocessed_articles)\n",
    "corpus = [dictionary.doc2bow(article) for article in preprocessed_articles]\n",
    "\n",
    "# for each tuple in the corpus, the first element is the word index and the second element\n",
    "# is the number of times it appears in the text\n",
    "# for c in corpus:\n",
    "#     for item in c:\n",
    "#         print(f'{item} -- {dictionary[item[0]]}')"
   ]
  },
  {
   "cell_type": "markdown",
   "id": "fallen-worcester",
   "metadata": {},
   "source": [
    "### Create the LDA model for topic modeling\n",
    "This trains a model and creates however many topics are specified. It doesn't assign names to the topics, so these need to be inferred."
   ]
  },
  {
   "cell_type": "code",
   "execution_count": 16,
   "id": "relevant-employer",
   "metadata": {},
   "outputs": [],
   "source": [
    "# this model didn't have the best coherence score, but in my opinion it produces the best topics\n",
    "model = LdaMulticore(corpus, num_topics=4, id2word=dictionary, passes=10, workers=2, chunksize=100)"
   ]
  },
  {
   "cell_type": "markdown",
   "id": "sorted-scene",
   "metadata": {},
   "source": [
    "### Structure the topics as a dict and parse out the words for each topic"
   ]
  },
  {
   "cell_type": "code",
   "execution_count": 17,
   "id": "reverse-badge",
   "metadata": {},
   "outputs": [
    {
     "data": {
      "text/plain": [
       "[(0,\n",
       "  '0.009*\"people\" + 0.008*\"covid-19\" + 0.008*\"health\" + 0.007*\"coronavirus\" + 0.006*\"vaccine\" + 0.006*\"country\" + 0.006*\"case\" + 0.005*\"pandemic\" + 0.005*\"government\" + 0.005*\"would\"'),\n",
       " (1,\n",
       "  '0.010*\"police\" + 0.007*\"people\" + 0.005*\"protest\" + 0.005*\"woman\" + 0.004*\"navalny\" + 0.004*\"2020\" + 0.004*\"protester\" + 0.004*\"news\" + 0.003*\"right\" + 0.003*\"officer\"'),\n",
       " (2,\n",
       "  '0.008*\"china\" + 0.006*\"government\" + 0.006*\"trump\" + 0.006*\"state\" + 0.005*\"would\" + 0.005*\"president\" + 0.005*\"also\" + 0.005*\"u.s.\" + 0.005*\"biden\" + 0.004*\"country\"'),\n",
       " (3,\n",
       "  '0.008*\"year\" + 0.007*\"climate\" + 0.005*\"world\" + 0.004*\"change\" + 0.004*\"also\" + 0.003*\"area\" + 0.003*\"water\" + 0.003*\"scientist\" + 0.003*\"found\" + 0.003*\"animal\"')]"
      ]
     },
     "execution_count": 17,
     "metadata": {},
     "output_type": "execute_result"
    }
   ],
   "source": [
    "model.print_topics()"
   ]
  },
  {
   "cell_type": "code",
   "execution_count": 18,
   "id": "heavy-interval",
   "metadata": {},
   "outputs": [],
   "source": [
    "raw_topics = model.print_topics()\n",
    "topics = {}\n",
    "\n",
    "for topic in raw_topics:\n",
    "    topic_no = topic[0]\n",
    "    topic_words = topic[1].split('+')\n",
    "    \n",
    "    # find words using regex and remove double quotes\n",
    "    topic_words = [re.search('\\\".+\\\"', words).group().replace('\"', '') for words in topic_words]\n",
    "    \n",
    "    # add topic_no and words to topics\n",
    "    topics.update({topic_no: topic_words})"
   ]
  },
  {
   "cell_type": "markdown",
   "id": "demonstrated-farming",
   "metadata": {},
   "source": [
    "### Display the topics"
   ]
  },
  {
   "cell_type": "code",
   "execution_count": 19,
   "id": "hungry-antarctica",
   "metadata": {},
   "outputs": [
    {
     "name": "stdout",
     "output_type": "stream",
     "text": [
      "topic 0\n",
      "['people', 'covid-19', 'health', 'coronavirus', 'vaccine', 'country', 'case', 'pandemic', 'government', 'would']\n",
      "\n",
      "topic 1\n",
      "['police', 'people', 'protest', 'woman', 'navalny', '2020', 'protester', 'news', 'right', 'officer']\n",
      "\n",
      "topic 2\n",
      "['china', 'government', 'trump', 'state', 'would', 'president', 'also', 'u.s.', 'biden', 'country']\n",
      "\n",
      "topic 3\n",
      "['year', 'climate', 'world', 'change', 'also', 'area', 'water', 'scientist', 'found', 'animal']\n",
      "\n"
     ]
    }
   ],
   "source": [
    "for key in topics.keys():\n",
    "    print(f'topic {key}')\n",
    "    print(topics[key])\n",
    "    print()"
   ]
  },
  {
   "cell_type": "markdown",
   "id": "developed-apparel",
   "metadata": {},
   "source": [
    "### Topics\n",
    "0. coronavirus\n",
    "1. social\n",
    "2. government/politics\n",
    "3. science/tech"
   ]
  },
  {
   "cell_type": "markdown",
   "id": "brave-neighborhood",
   "metadata": {},
   "source": [
    "### Save the model to a file\n",
    "only uncomment this when you find a model you want to save"
   ]
  },
  {
   "cell_type": "code",
   "execution_count": 20,
   "id": "binary-johnson",
   "metadata": {},
   "outputs": [],
   "source": [
    "model.save('models/news_lda_model')"
   ]
  },
  {
   "cell_type": "markdown",
   "id": "satisfied-update",
   "metadata": {},
   "source": [
    "### Making predictions with the trained model"
   ]
  },
  {
   "cell_type": "code",
   "execution_count": 21,
   "id": "agreed-reconstruction",
   "metadata": {},
   "outputs": [],
   "source": [
    "# test_article = df.iloc[84]['content'] # gov\n",
    "# test_article = df.iloc[3238]['content'] # tech\n",
    "# test_article = df.iloc[5592]['content'] # science\n",
    "# test_article = df.iloc[1339]['content'] # science\n",
    "# test_article = df.iloc[4992]['content'] # business\n",
    "test_article = df.iloc[5626]['content']"
   ]
  },
  {
   "cell_type": "markdown",
   "id": "saving-illinois",
   "metadata": {},
   "source": [
    "### Function to get predicted topic for an article"
   ]
  },
  {
   "cell_type": "code",
   "execution_count": 22,
   "id": "associate-generic",
   "metadata": {
    "scrolled": true
   },
   "outputs": [],
   "source": [
    "def predict_topic(art):\n",
    "    preprocessed = preprocess(art)\n",
    "    \n",
    "    # create bag of words\n",
    "    # model.id2word is the dictionary that was used to train the model\n",
    "    # this is useful so that I don't have to pickle the dictionary separately\n",
    "    bow = model.id2word.doc2bow(preprocessed)\n",
    "    \n",
    "    # make the prediciton\n",
    "    pred = model[bow]\n",
    "    \n",
    "    predicted_topic = pred[0][0]\n",
    "    best_match = pred[0][1]\n",
    "\n",
    "    for p in pred:\n",
    "        if p[1] > best_match:\n",
    "            predicted_topic = p[0]\n",
    "            best_match = p[1]\n",
    "            \n",
    "    return predicted_topic"
   ]
  },
  {
   "cell_type": "markdown",
   "id": "focused-ethnic",
   "metadata": {},
   "source": [
    "### See how many articles are in each topic"
   ]
  },
  {
   "cell_type": "code",
   "execution_count": 23,
   "id": "nuclear-monitoring",
   "metadata": {},
   "outputs": [
    {
     "name": "stdout",
     "output_type": "stream",
     "text": [
      "0: 1789\n",
      "1: 1450\n",
      "2: 1607\n",
      "3: 803\n"
     ]
    }
   ],
   "source": [
    "counts = {\n",
    "    0: 0,\n",
    "    1: 0,\n",
    "    2: 0,\n",
    "    3: 0\n",
    "}\n",
    "\n",
    "for i in range(len(df)):\n",
    "    pred = predict_topic(df.iloc[i]['content'])\n",
    "    counts[pred] += 1\n",
    "    \n",
    "for key in counts.keys():\n",
    "    print(f'{key}: {counts[key]}')"
   ]
  },
  {
   "cell_type": "code",
   "execution_count": 25,
   "id": "normal-bubble",
   "metadata": {},
   "outputs": [
    {
     "data": {
      "image/png": "[encoded data removed]",
      "text/plain": [
       "<Figure size 864x432 with 1 Axes>"
      ]
     },
     "metadata": {
      "needs_background": "light"
     },
     "output_type": "display_data"
    }
   ],
   "source": [
    "# plot the number of articles in each topic\n",
    "plt.figure(figsize=(12, 6))\n",
    "plt.bar(['covid', 'social', 'gov', 'science'], [counts[key] for key in counts.keys()])\n",
    "plt.show()"
   ]
  },
  {
   "cell_type": "code",
   "execution_count": 70,
   "id": "previous-garbage",
   "metadata": {
    "scrolled": true
   },
   "outputs": [],
   "source": [
    "# df[df['content'].str.contains('climate')]"
   ]
  },
  {
   "cell_type": "markdown",
   "id": "minute-dispute",
   "metadata": {},
   "source": [
    "### some helpful methods to use with the model"
   ]
  },
  {
   "cell_type": "code",
   "execution_count": 24,
   "id": "impressive-mother",
   "metadata": {},
   "outputs": [
    {
     "data": {
      "text/plain": [
       "[(2, 0.99643993)]"
      ]
     },
     "execution_count": 24,
     "metadata": {},
     "output_type": "execute_result"
    }
   ],
   "source": [
    "# show topics for a specific document\n",
    "model.get_document_topics(bow)"
   ]
  },
  {
   "cell_type": "code",
   "execution_count": 25,
   "id": "expanded-calgary",
   "metadata": {},
   "outputs": [
    {
     "data": {
      "text/plain": [
       "array([[1.2169720e-04, 1.6296956e-06, 1.7417744e-06, ..., 1.5604569e-06,\n",
       "        2.4599276e-05, 2.4599276e-05],\n",
       "       [1.5078865e-05, 1.8204784e-04, 1.4297725e-04, ..., 3.3755969e-06,\n",
       "        4.1952080e-07, 4.1952080e-07],\n",
       "       [9.7456606e-05, 2.8295140e-03, 8.1273686e-04, ..., 5.1915094e-07,\n",
       "        5.1915958e-07, 5.1915958e-07],\n",
       "       [4.2005084e-04, 1.0385923e-03, 8.1222726e-04, ..., 5.6263173e-07,\n",
       "        6.2583047e-07, 6.2583047e-07]], dtype=float32)"
      ]
     },
     "execution_count": 25,
     "metadata": {},
     "output_type": "execute_result"
    }
   ],
   "source": [
    "# get probability of each word in each topic\n",
    "model.get_topics()"
   ]
  },
  {
   "cell_type": "code",
   "execution_count": 26,
   "id": "subsequent-expression",
   "metadata": {},
   "outputs": [
    {
     "data": {
      "text/plain": [
       "[('said', 0.016356008),\n",
       " ('people', 0.0050282176),\n",
       " ('police', 0.004876252),\n",
       " ('state', 0.004521574),\n",
       " ('government', 0.0045206775),\n",
       " ('president', 0.004482007),\n",
       " ('right', 0.0043196524),\n",
       " ('also', 0.004290839),\n",
       " ('country', 0.003883938),\n",
       " ('trump', 0.0038731403),\n",
       " ('year', 0.003796118),\n",
       " ('would', 0.0036867552),\n",
       " ('china', 0.0033694378),\n",
       " ('report', 0.003089808),\n",
       " ('official', 0.0030810784),\n",
       " ('security', 0.003073313),\n",
       " ('group', 0.0030534498),\n",
       " ('russia', 0.0029911557),\n",
       " ('military', 0.0028998563),\n",
       " ('told', 0.002898611)]"
      ]
     },
     "execution_count": 26,
     "metadata": {},
     "output_type": "execute_result"
    }
   ],
   "source": [
    "# Show top words for a specific topic.\n",
    "# I believe the number along with each word is the probability that a document would be part\n",
    "# of that topic if it contained that word, but I would need to double check that in the docs.\n",
    "model.show_topic(1, topn=20)"
   ]
  },
  {
   "cell_type": "code",
   "execution_count": 27,
   "id": "falling-corpus",
   "metadata": {
    "scrolled": true
   },
   "outputs": [
    {
     "data": {
      "text/plain": [
       "[([(0.01635176, 'said'),\n",
       "   (0.010475212, 'people'),\n",
       "   (0.0080264695, 'covid-19'),\n",
       "   (0.008007401, 'health'),\n",
       "   (0.00713907, 'coronavirus'),\n",
       "   (0.0069018635, 'case'),\n",
       "   (0.005034241, 'virus'),\n",
       "   (0.0049920958, 'country'),\n",
       "   (0.0048570163, 'government'),\n",
       "   (0.0045126635, 'pandemic'),\n",
       "   (0.0044119474, 'would'),\n",
       "   (0.0043228096, 'death'),\n",
       "   (0.004090674, 'vaccine'),\n",
       "   (0.0040221303, 'home'),\n",
       "   (0.003977135, 'first'),\n",
       "   (0.003812066, 'week'),\n",
       "   (0.0037886081, 'also'),\n",
       "   (0.003548614, 'time'),\n",
       "   (0.0034912226, 'hospital'),\n",
       "   (0.0033957043, 'public')],\n",
       "  -0.9249449567568429),\n",
       " ([(0.01635601, 'said'),\n",
       "   (0.005028218, 'people'),\n",
       "   (0.0048762523, 'police'),\n",
       "   (0.0045215744, 'state'),\n",
       "   (0.004520678, 'government'),\n",
       "   (0.0044820076, 'president'),\n",
       "   (0.004319653, 'right'),\n",
       "   (0.0042908397, 'also'),\n",
       "   (0.0038839385, 'country'),\n",
       "   (0.0038731408, 'trump'),\n",
       "   (0.0037961185, 'year'),\n",
       "   (0.0036867557, 'would'),\n",
       "   (0.0033694382, 'china'),\n",
       "   (0.0030898084, 'report'),\n",
       "   (0.0030810789, 'official'),\n",
       "   (0.0030733135, 'security'),\n",
       "   (0.0030534503, 'group'),\n",
       "   (0.0029911562, 'russia'),\n",
       "   (0.0028998565, 'military'),\n",
       "   (0.0028986111, 'told')],\n",
       "  -1.0932230283420499),\n",
       " ([(0.01262955, 'said'),\n",
       "   (0.007842409, 'year'),\n",
       "   (0.006103176, 'company'),\n",
       "   (0.0054320586, 'world'),\n",
       "   (0.004790785, 'also'),\n",
       "   (0.0041947593, 'would'),\n",
       "   (0.0041680164, 'climate'),\n",
       "   (0.004005805, 'country'),\n",
       "   (0.0035713937, 'global'),\n",
       "   (0.003488122, 'china'),\n",
       "   (0.003423194, 'million'),\n",
       "   (0.003359467, 'change'),\n",
       "   (0.0033242188, 'government'),\n",
       "   (0.0032025294, 'could'),\n",
       "   (0.0031926015, 'time'),\n",
       "   (0.0030151468, 'report'),\n",
       "   (0.0029082547, 'vaccine'),\n",
       "   (0.002829514, 'data'),\n",
       "   (0.0026675942, 'research'),\n",
       "   (0.0024521786, 'scientist')],\n",
       "  -1.3032112285533288),\n",
       " ([(0.013618608, '2020'),\n",
       "   (0.008055429, 'police'),\n",
       "   (0.007910954, 'picture'),\n",
       "   (0.0068003, 'news'),\n",
       "   (0.0066365036, 'getty'),\n",
       "   (0.005666064, 'protester'),\n",
       "   (0.005000589, 'protest'),\n",
       "   (0.0048879823, 'image'),\n",
       "   (0.004874301, 'area'),\n",
       "   (0.00481379, 'bolsonaro'),\n",
       "   (0.0047048116, 'world'),\n",
       "   (0.004487505, 'reuters'),\n",
       "   (0.004448849, 'people'),\n",
       "   (0.004302117, 'black'),\n",
       "   (0.00424953, 'life'),\n",
       "   (0.0040314915, 'photo'),\n",
       "   (0.0038940622, 'brazil'),\n",
       "   (0.0038661011, 'fire'),\n",
       "   (0.0036799188, 'near'),\n",
       "   (0.003281597, 'indigenous')],\n",
       "  -1.7386555900944778)]"
      ]
     },
     "execution_count": 27,
     "metadata": {},
     "output_type": "execute_result"
    }
   ],
   "source": [
    "# Show each topic and it's coherence score. This will be useful for evaluating the model.\n",
    "model.top_topics(corpus)"
   ]
  },
  {
   "cell_type": "markdown",
   "id": "furnished-dinner",
   "metadata": {},
   "source": [
    "### Model evaluation"
   ]
  },
  {
   "cell_type": "code",
   "execution_count": 49,
   "id": "julian-method",
   "metadata": {},
   "outputs": [],
   "source": [
    "# create several LDA models with different k values\n",
    "model1 = LdaMulticore(corpus, num_topics=3, id2word=dictionary, passes=2, workers=2)\n",
    "model2 = LdaMulticore(corpus, num_topics=4, id2word=dictionary, passes=2, workers=2)\n",
    "model3 = LdaMulticore(corpus, num_topics=5, id2word=dictionary, passes=2, workers=2)\n",
    "model4 = LdaMulticore(corpus, num_topics=6, id2word=dictionary, passes=2, workers=2)\n",
    "model5 = LdaMulticore(corpus, num_topics=7, id2word=dictionary, passes=2, workers=2)\n",
    "model6 = LdaMulticore(corpus, num_topics=8, id2word=dictionary, passes=2, workers=2)"
   ]
  },
  {
   "cell_type": "code",
   "execution_count": 50,
   "id": "entire-fusion",
   "metadata": {},
   "outputs": [],
   "source": [
    "# create coherence models to evaluate each LDA model\n",
    "cm1 = CoherenceModel(model=model1, corpus=corpus, coherence='u_mass')\n",
    "cm2 = CoherenceModel(model=model2, corpus=corpus, coherence='u_mass')\n",
    "cm3 = CoherenceModel(model=model3, corpus=corpus, coherence='u_mass')\n",
    "cm4 = CoherenceModel(model=model4, corpus=corpus, coherence='u_mass')\n",
    "cm5 = CoherenceModel(model=model5, corpus=corpus, coherence='u_mass')\n",
    "cm6 = CoherenceModel(model=model6, corpus=corpus, coherence='u_mass')"
   ]
  },
  {
   "cell_type": "code",
   "execution_count": 51,
   "id": "black-exhibition",
   "metadata": {},
   "outputs": [
    {
     "name": "stdout",
     "output_type": "stream",
     "text": [
      "3 topics: -0.956437725415844\n",
      "4 topics: -0.9895622166086868\n",
      "5 topics: -1.0383314901683396\n",
      "6 topics: -1.0201118639199547\n",
      "7 topics: -1.016463196118569\n",
      "8 topics: -1.0812588447431652\n"
     ]
    }
   ],
   "source": [
    "# show the coherence score for each model, the score closest to 0 is the best model\n",
    "print(f'3 topics: {cm1.get_coherence()}')\n",
    "print(f'4 topics: {cm2.get_coherence()}')\n",
    "print(f'5 topics: {cm3.get_coherence()}')\n",
    "print(f'6 topics: {cm4.get_coherence()}')\n",
    "print(f'7 topics: {cm5.get_coherence()}')\n",
    "print(f'8 topics: {cm6.get_coherence()}')"
   ]
  },
  {
   "cell_type": "code",
   "execution_count": 55,
   "id": "subsequent-music",
   "metadata": {},
   "outputs": [
    {
     "data": {
      "text/plain": [
       "[(0,\n",
       "  '0.013*\"said\" + 0.006*\"people\" + 0.005*\"police\" + 0.004*\"would\" + 0.004*\"also\" + 0.004*\"year\" + 0.003*\"country\" + 0.003*\"government\" + 0.003*\"state\" + 0.003*\"could\"'),\n",
       " (1,\n",
       "  '0.007*\"said\" + 0.005*\"people\" + 0.005*\"government\" + 0.004*\"also\" + 0.004*\"year\" + 0.004*\"world\" + 0.003*\"news\" + 0.003*\"state\" + 0.003*\"time\" + 0.003*\"country\"'),\n",
       " (2,\n",
       "  '0.016*\"said\" + 0.005*\"country\" + 0.005*\"people\" + 0.004*\"year\" + 0.004*\"would\" + 0.004*\"china\" + 0.004*\"coronavirus\" + 0.004*\"also\" + 0.004*\"world\" + 0.003*\"vaccine\"'),\n",
       " (3,\n",
       "  '0.015*\"said\" + 0.005*\"people\" + 0.005*\"government\" + 0.004*\"also\" + 0.004*\"year\" + 0.003*\"would\" + 0.003*\"navalny\" + 0.003*\"trump\" + 0.003*\"state\" + 0.003*\"time\"')]"
      ]
     },
     "execution_count": 55,
     "metadata": {},
     "output_type": "execute_result"
    }
   ],
   "source": [
    "# show the topics of the best model\n",
    "model2.print_topics()"
   ]
  }
 ],
 "metadata": {
  "kernelspec": {
   "display_name": "Python 3",
   "language": "python",
   "name": "python3"
  },
  "language_info": {
   "codemirror_mode": {
    "name": "ipython",
    "version": 3
   },
   "file_extension": ".py",
   "mimetype": "text/x-python",
   "name": "python",
   "nbconvert_exporter": "python",
   "pygments_lexer": "ipython3",
   "version": "3.8.5"
  }
 },
 "nbformat": 4,
 "nbformat_minor": 5
}
