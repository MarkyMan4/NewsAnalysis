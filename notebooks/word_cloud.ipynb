{
 "cells": [
  {
   "cell_type": "markdown",
   "id": "amateur-transfer",
   "metadata": {},
   "source": [
    "# Use wordsfrom articles to form a word cloud\n",
    "This can be done a couple different ways. A word cloud that represents all articles can be made by looking at all the unique keywords. \\\n",
    "A word cloud for each article can be made by just looking at the article content."
   ]
  },
  {
   "cell_type": "code",
   "execution_count": 1,
   "id": "subject-miniature",
   "metadata": {},
   "outputs": [],
   "source": [
    "import pandas as pd\n",
    "from sqlalchemy import create_engine\n",
    "import json"
   ]
  },
  {
   "cell_type": "markdown",
   "id": "established-genetics",
   "metadata": {},
   "source": [
    "### Get articles and NLP so we can extract the keywords as well"
   ]
  },
  {
   "cell_type": "code",
   "execution_count": 5,
   "id": "norman-hebrew",
   "metadata": {},
   "outputs": [],
   "source": [
    "with open('../secrets.json') as file:\n",
    "    secrets = json.load(file)\n",
    "    connection_string = secrets['connection_string']\n",
    "\n",
    "db = create_engine(connection_string)\n",
    "df = pd.read_sql('''\n",
    "        select * \n",
    "        from news_article art inner join news_articlenlp nlp\n",
    "            on art.id = nlp.article_id\n",
    "    ''', \n",
    "    con=db\n",
    ")"
   ]
  },
  {
   "cell_type": "markdown",
   "id": "pursuant-pharmaceutical",
   "metadata": {},
   "source": [
    "## Create a word cloud representing all articles"
   ]
  },
  {
   "cell_type": "markdown",
   "id": "polyphonic-slovenia",
   "metadata": {},
   "source": [
    "### Extract all keywords"
   ]
  },
  {
   "cell_type": "code",
   "execution_count": 10,
   "id": "functional-shanghai",
   "metadata": {},
   "outputs": [
    {
     "data": {
      "text/plain": [
       "['really',\n",
       " 'take',\n",
       " 'something',\n",
       " 'show',\n",
       " 'said',\n",
       " 'real',\n",
       " 'race',\n",
       " 'proof',\n",
       " 'project',\n",
       " 'measurements']"
      ]
     },
     "execution_count": 10,
     "metadata": {},
     "output_type": "execute_result"
    }
   ],
   "source": [
    "keywords = []\n",
    "\n",
    "for i in range(len(df)):\n",
    "    article_keywords = df.iloc[i]['keywords']\n",
    "    keywords += article_keywords.split(';')\n",
    "    \n",
    "keywords[:10]"
   ]
  },
  {
   "cell_type": "markdown",
   "id": "aerial-argentina",
   "metadata": {},
   "source": [
    "### Use the keywords to construct a word cloud"
   ]
  },
  {
   "cell_type": "code",
   "execution_count": null,
   "id": "recorded-croatia",
   "metadata": {},
   "outputs": [],
   "source": []
  }
 ],
 "metadata": {
  "kernelspec": {
   "display_name": "Python 3",
   "language": "python",
   "name": "python3"
  },
  "language_info": {
   "codemirror_mode": {
    "name": "ipython",
    "version": 3
   },
   "file_extension": ".py",
   "mimetype": "text/x-python",
   "name": "python",
   "nbconvert_exporter": "python",
   "pygments_lexer": "ipython3",
   "version": "3.8.10"
  }
 },
 "nbformat": 4,
 "nbformat_minor": 5
}
