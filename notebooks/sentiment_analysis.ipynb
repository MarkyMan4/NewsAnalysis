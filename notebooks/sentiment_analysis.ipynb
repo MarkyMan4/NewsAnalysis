{
 "cells": [
  {
   "cell_type": "code",
   "execution_count": 1,
   "metadata": {},
   "outputs": [],
   "source": [
    "import pandas as pd\n",
    "from sqlalchemy import create_engine\n",
    "from datetime import datetime\n",
    "from textblob import TextBlob\n",
    "import matplotlib.pyplot as plt\n",
    "import json"
   ]
  },
  {
   "cell_type": "code",
   "execution_count": 3,
   "metadata": {
    "scrolled": true
   },
   "outputs": [
    {
     "data": {
      "text/html": [
       "<div>\n",
       "<style scoped>\n",
       "    .dataframe tbody tr th:only-of-type {\n",
       "        vertical-align: middle;\n",
       "    }\n",
       "\n",
       "    .dataframe tbody tr th {\n",
       "        vertical-align: top;\n",
       "    }\n",
       "\n",
       "    .dataframe thead th {\n",
       "        text-align: right;\n",
       "    }\n",
       "</style>\n",
       "<table border=\"1\" class=\"dataframe\">\n",
       "  <thead>\n",
       "    <tr style=\"text-align: right;\">\n",
       "      <th></th>\n",
       "      <th>id</th>\n",
       "      <th>post_id</th>\n",
       "      <th>post_title</th>\n",
       "      <th>url</th>\n",
       "      <th>score</th>\n",
       "      <th>publisher</th>\n",
       "      <th>headline</th>\n",
       "      <th>date_published</th>\n",
       "      <th>content</th>\n",
       "    </tr>\n",
       "  </thead>\n",
       "  <tbody>\n",
       "    <tr>\n",
       "      <th>0</th>\n",
       "      <td>1</td>\n",
       "      <td>fra8wl</td>\n",
       "      <td>Top US general resists Trump administration?s ...</td>\n",
       "      <td>https://mondoweiss.net/2020/03/top-u-s-general...</td>\n",
       "      <td>10285</td>\n",
       "      <td>mondoweiss</td>\n",
       "      <td>Top U.S. general resists Trump administration?...</td>\n",
       "      <td>2020-03-28 15:44:00</td>\n",
       "      <td>A brave U.S. army lieutenant general may be ri...</td>\n",
       "    </tr>\n",
       "    <tr>\n",
       "      <th>1</th>\n",
       "      <td>2</td>\n",
       "      <td>frcvgj</td>\n",
       "      <td>Experts believe the explosion of coronavirus c...</td>\n",
       "      <td>https://www.si.com/soccer/2020/03/25/atalanta-...</td>\n",
       "      <td>2854</td>\n",
       "      <td>si</td>\n",
       "      <td>Atalanta vs Valencia linked to accelerating co...</td>\n",
       "      <td>2020-03-25 00:00:00</td>\n",
       "      <td>ROME (AP) ? It was the biggest soccer game in ...</td>\n",
       "    </tr>\n",
       "    <tr>\n",
       "      <th>2</th>\n",
       "      <td>3</td>\n",
       "      <td>fr5uqd</td>\n",
       "      <td>Boris Johnson's government is reportedly furio...</td>\n",
       "      <td>https://www.businessinsider.com/coronavirus-bo...</td>\n",
       "      <td>79397</td>\n",
       "      <td>businessinsider</td>\n",
       "      <td>Boris Johnson's government is reportedly furio...</td>\n",
       "      <td>2020-03-29 00:00:00</td>\n",
       "      <td>UK government officials say there'll be \"recko...</td>\n",
       "    </tr>\n",
       "    <tr>\n",
       "      <th>3</th>\n",
       "      <td>4</td>\n",
       "      <td>fr7uzc</td>\n",
       "      <td>Toyota Gearing Up To Build Ventilators And Fac...</td>\n",
       "      <td>https://www.carscoops.com/2020/03/toyota-geari...</td>\n",
       "      <td>4988</td>\n",
       "      <td>carscoops</td>\n",
       "      <td>Toyota Gearing Up To Build Ventilators And Fac...</td>\n",
       "      <td>2020-03-27 22:36:00</td>\n",
       "      <td>The United States will soon have over 100,000 ...</td>\n",
       "    </tr>\n",
       "    <tr>\n",
       "      <th>4</th>\n",
       "      <td>5</td>\n",
       "      <td>frbkqr</td>\n",
       "      <td>Prime Minister Justin Trudeau says Health Cana...</td>\n",
       "      <td>https://www.ctvnews.ca/health/coronavirus/trud...</td>\n",
       "      <td>2341</td>\n",
       "      <td>ctvnews</td>\n",
       "      <td>Trudeau vows 'no corners cut' in accepting mas...</td>\n",
       "      <td>2020-03-29 13:04:00</td>\n",
       "      <td>TORONTO -- Prime Minister Justin Trudeau says ...</td>\n",
       "    </tr>\n",
       "    <tr>\n",
       "      <th>...</th>\n",
       "      <td>...</td>\n",
       "      <td>...</td>\n",
       "      <td>...</td>\n",
       "      <td>...</td>\n",
       "      <td>...</td>\n",
       "      <td>...</td>\n",
       "      <td>...</td>\n",
       "      <td>...</td>\n",
       "      <td>...</td>\n",
       "    </tr>\n",
       "    <tr>\n",
       "      <th>5533</th>\n",
       "      <td>5550</td>\n",
       "      <td>m3c60o</td>\n",
       "      <td>Us secretary of state calls Taiwan \"country\"</td>\n",
       "      <td>https://www.taiwannews.com.tw/en/news/4148761</td>\n",
       "      <td>64413</td>\n",
       "      <td>taiwannews</td>\n",
       "      <td>US secretary of state calls Taiwan 'country'</td>\n",
       "      <td>None</td>\n",
       "      <td>TAIPEI (Taiwan News) — U.S. Secretary of State...</td>\n",
       "    </tr>\n",
       "    <tr>\n",
       "      <th>5534</th>\n",
       "      <td>5551</td>\n",
       "      <td>m3o54g</td>\n",
       "      <td>Mysterious attacks on at least a dozen tankers...</td>\n",
       "      <td>https://www.businessinsider.com/israel-reporte...</td>\n",
       "      <td>1063</td>\n",
       "      <td>businessinsider</td>\n",
       "      <td>Mysterious attacks on at least a dozen tankers...</td>\n",
       "      <td>2021-03-12 00:00:00</td>\n",
       "      <td>Israel has targeted tankers carrying Iranian o...</td>\n",
       "    </tr>\n",
       "    <tr>\n",
       "      <th>5535</th>\n",
       "      <td>5552</td>\n",
       "      <td>m3igdb</td>\n",
       "      <td>Britain advises its citizens to flee Myanmar a...</td>\n",
       "      <td>https://www.theguardian.com/world/2021/mar/12/...</td>\n",
       "      <td>1651</td>\n",
       "      <td>theguardian</td>\n",
       "      <td>Britain advises its citizens to flee Myanmar a...</td>\n",
       "      <td>2021-03-12 00:00:00</td>\n",
       "      <td>The British government has urged its citizens ...</td>\n",
       "    </tr>\n",
       "    <tr>\n",
       "      <th>5536</th>\n",
       "      <td>5553</td>\n",
       "      <td>m3ibzy</td>\n",
       "      <td>S. Korea to ban military exports to Myanmar, m...</td>\n",
       "      <td>http://yna.kr/AEN20210312009200325</td>\n",
       "      <td>1238</td>\n",
       "      <td>yna</td>\n",
       "      <td>S. Korea to ban military exports to Myanmar, m...</td>\n",
       "      <td>2021-03-12 17:28:37</td>\n",
       "      <td>As part of a humanitarian measure, the governm...</td>\n",
       "    </tr>\n",
       "    <tr>\n",
       "      <th>5537</th>\n",
       "      <td>5554</td>\n",
       "      <td>m3ozfb</td>\n",
       "      <td>Israel 'bombed a dozen ships carrying Iranian ...</td>\n",
       "      <td>https://www.theguardian.com/world/2021/mar/12/...</td>\n",
       "      <td>475</td>\n",
       "      <td>theguardian</td>\n",
       "      <td>Israel 'bombed a dozen ships carrying Iranian ...</td>\n",
       "      <td>2021-03-12 00:00:00</td>\n",
       "      <td>Israel has bombed at least a dozen ships en ro...</td>\n",
       "    </tr>\n",
       "  </tbody>\n",
       "</table>\n",
       "<p>5538 rows × 9 columns</p>\n",
       "</div>"
      ],
      "text/plain": [
       "        id post_id                                         post_title  \\\n",
       "0        1  fra8wl  Top US general resists Trump administration?s ...   \n",
       "1        2  frcvgj  Experts believe the explosion of coronavirus c...   \n",
       "2        3  fr5uqd  Boris Johnson's government is reportedly furio...   \n",
       "3        4  fr7uzc  Toyota Gearing Up To Build Ventilators And Fac...   \n",
       "4        5  frbkqr  Prime Minister Justin Trudeau says Health Cana...   \n",
       "...    ...     ...                                                ...   \n",
       "5533  5550  m3c60o       Us secretary of state calls Taiwan \"country\"   \n",
       "5534  5551  m3o54g  Mysterious attacks on at least a dozen tankers...   \n",
       "5535  5552  m3igdb  Britain advises its citizens to flee Myanmar a...   \n",
       "5536  5553  m3ibzy  S. Korea to ban military exports to Myanmar, m...   \n",
       "5537  5554  m3ozfb  Israel 'bombed a dozen ships carrying Iranian ...   \n",
       "\n",
       "                                                    url  score  \\\n",
       "0     https://mondoweiss.net/2020/03/top-u-s-general...  10285   \n",
       "1     https://www.si.com/soccer/2020/03/25/atalanta-...   2854   \n",
       "2     https://www.businessinsider.com/coronavirus-bo...  79397   \n",
       "3     https://www.carscoops.com/2020/03/toyota-geari...   4988   \n",
       "4     https://www.ctvnews.ca/health/coronavirus/trud...   2341   \n",
       "...                                                 ...    ...   \n",
       "5533      https://www.taiwannews.com.tw/en/news/4148761  64413   \n",
       "5534  https://www.businessinsider.com/israel-reporte...   1063   \n",
       "5535  https://www.theguardian.com/world/2021/mar/12/...   1651   \n",
       "5536                 http://yna.kr/AEN20210312009200325   1238   \n",
       "5537  https://www.theguardian.com/world/2021/mar/12/...    475   \n",
       "\n",
       "            publisher                                           headline  \\\n",
       "0          mondoweiss  Top U.S. general resists Trump administration?...   \n",
       "1                  si  Atalanta vs Valencia linked to accelerating co...   \n",
       "2     businessinsider  Boris Johnson's government is reportedly furio...   \n",
       "3           carscoops  Toyota Gearing Up To Build Ventilators And Fac...   \n",
       "4             ctvnews  Trudeau vows 'no corners cut' in accepting mas...   \n",
       "...               ...                                                ...   \n",
       "5533       taiwannews       US secretary of state calls Taiwan 'country'   \n",
       "5534  businessinsider  Mysterious attacks on at least a dozen tankers...   \n",
       "5535      theguardian  Britain advises its citizens to flee Myanmar a...   \n",
       "5536              yna  S. Korea to ban military exports to Myanmar, m...   \n",
       "5537      theguardian  Israel 'bombed a dozen ships carrying Iranian ...   \n",
       "\n",
       "           date_published                                            content  \n",
       "0     2020-03-28 15:44:00  A brave U.S. army lieutenant general may be ri...  \n",
       "1     2020-03-25 00:00:00  ROME (AP) ? It was the biggest soccer game in ...  \n",
       "2     2020-03-29 00:00:00  UK government officials say there'll be \"recko...  \n",
       "3     2020-03-27 22:36:00  The United States will soon have over 100,000 ...  \n",
       "4     2020-03-29 13:04:00  TORONTO -- Prime Minister Justin Trudeau says ...  \n",
       "...                   ...                                                ...  \n",
       "5533                 None  TAIPEI (Taiwan News) — U.S. Secretary of State...  \n",
       "5534  2021-03-12 00:00:00  Israel has targeted tankers carrying Iranian o...  \n",
       "5535  2021-03-12 00:00:00  The British government has urged its citizens ...  \n",
       "5536  2021-03-12 17:28:37  As part of a humanitarian measure, the governm...  \n",
       "5537  2021-03-12 00:00:00  Israel has bombed at least a dozen ships en ro...  \n",
       "\n",
       "[5538 rows x 9 columns]"
      ]
     },
     "execution_count": 3,
     "metadata": {},
     "output_type": "execute_result"
    }
   ],
   "source": [
    "with open('../secrets.json') as file:\n",
    "    secrets = json.load(file)\n",
    "    connection_string = secrets['connection_string']\n",
    "    \n",
    "db = create_engine(connection_string)\n",
    "df = pd.read_sql('SELECT * FROM NAP.article', con=db)\n",
    "\n",
    "df"
   ]
  },
  {
   "cell_type": "code",
   "execution_count": 4,
   "metadata": {
    "scrolled": true
   },
   "outputs": [
    {
     "data": {
      "text/plain": [
       "0     Top U.S. general resists Trump administration?...\n",
       "1     Atalanta vs Valencia linked to accelerating co...\n",
       "2     Boris Johnson's government is reportedly furio...\n",
       "3     Toyota Gearing Up To Build Ventilators And Fac...\n",
       "4     Trudeau vows 'no corners cut' in accepting mas...\n",
       "5     Endangered sea turtles hatch on Brazil's deser...\n",
       "6     Edward Snowden says COVID-19 could give govern...\n",
       "7     UN Environment Chief Warns ?Nature is Sending ...\n",
       "8     'So easy I thought it was fake': CRA’s CERB sy...\n",
       "9     Wimbledon paid pandemic insurance for almost 2...\n",
       "10    Pope condemns those trying to make quick buck ...\n",
       "11    US intelligence warned in November that corona...\n",
       "12    Donald Trump sends 200 ventilators to the UK a...\n",
       "13    Iran ‘hides 500,000 virus cases,’ says member ...\n",
       "14                                     Are you a robot?\n",
       "Name: headline, dtype: object"
      ]
     },
     "execution_count": 4,
     "metadata": {},
     "output_type": "execute_result"
    }
   ],
   "source": [
    "headlines = df[:15]['headline']\n",
    "headlines"
   ]
  },
  {
   "cell_type": "code",
   "execution_count": 14,
   "metadata": {
    "scrolled": true
   },
   "outputs": [
    {
     "name": "stdout",
     "output_type": "stream",
     "text": [
      "Top U.S. general resists Trump administration?s efforts to provoke war with Iran ? Mondoweiss: 0.28\n",
      "Atalanta vs Valencia linked to accelerating coronavirus spread: 0.0\n",
      "Boris Johnson's government is reportedly furious with China and believes it could have 40 times more coronavirus cases than it claims: 0.5\n",
      "Toyota Gearing Up To Build Ventilators And Face Shields As Mercedes Offers Use Of 3D Printers: 0.1\n",
      "Trudeau vows 'no corners cut' in accepting masks, other supplies from China: -0.12\n",
      "Endangered sea turtles hatch on Brazil's deserted beaches: 0.0\n",
      "Edward Snowden says COVID-19 could give governments invasive new data-collection powers that could last long after the pandemic: 0.03\n",
      "UN Environment Chief Warns ?Nature is Sending Us a Message? Through The Coronavirus Pandemic: 0.0\n",
      "'So easy I thought it was fake': CRA’s CERB system gets stellar reviews in first days of operation: 0.11\n",
      "Wimbledon paid pandemic insurance for almost 20 years. Now it’s getting $141 million: 0.0\n",
      "Pope condemns those trying to make quick buck off coronavirus: 0.33\n",
      "US intelligence warned in November that coronavirus spreading in China could be 'cataclysmic event': report: 0.0\n",
      "Donald Trump sends 200 ventilators to the UK after London called to say it 'needed them desperately': -0.6\n",
      "Iran ‘hides 500,000 virus cases,’ says member country’s anti-virus taskforce: 0.0\n",
      "Are you a robot?: 0.0\n"
     ]
    }
   ],
   "source": [
    "for headline in headlines:\n",
    "    blob = TextBlob(headline)\n",
    "    print(f'{headline}: {round(blob.sentiment.polarity, 2)}')"
   ]
  },
  {
   "cell_type": "code",
   "execution_count": 15,
   "metadata": {},
   "outputs": [
    {
     "name": "stdout",
     "output_type": "stream",
     "text": [
      "Sentiment(polarity=0.7, subjectivity=0.6000000000000001)\n",
      "Sentiment(polarity=0.0, subjectivity=0.0)\n"
     ]
    }
   ],
   "source": [
    "blob1 = TextBlob('I think this is good')\n",
    "blob2 = TextBlob('He won the race')\n",
    "\n",
    "print(blob1.sentiment)\n",
    "print(blob2.sentiment)"
   ]
  },
  {
   "cell_type": "code",
   "execution_count": 16,
   "metadata": {},
   "outputs": [],
   "source": [
    "polarities = []\n",
    "subjectivities = []\n",
    "\n",
    "for i in range(len(df)):\n",
    "    headline = df.iloc[i]['headline']\n",
    "    blob = TextBlob(headline)\n",
    "    \n",
    "    polarities.append(blob.sentiment.polarity)\n",
    "    subjectivities.append(blob.sentiment.subjectivity)"
   ]
  },
  {
   "cell_type": "code",
   "execution_count": 17,
   "metadata": {},
   "outputs": [],
   "source": [
    "df['polarity'] = polarities\n",
    "df['subjectivity'] = subjectivities"
   ]
  },
  {
   "cell_type": "code",
   "execution_count": 18,
   "metadata": {},
   "outputs": [
    {
     "data": {
      "text/html": [
       "<div>\n",
       "<style scoped>\n",
       "    .dataframe tbody tr th:only-of-type {\n",
       "        vertical-align: middle;\n",
       "    }\n",
       "\n",
       "    .dataframe tbody tr th {\n",
       "        vertical-align: top;\n",
       "    }\n",
       "\n",
       "    .dataframe thead th {\n",
       "        text-align: right;\n",
       "    }\n",
       "</style>\n",
       "<table border=\"1\" class=\"dataframe\">\n",
       "  <thead>\n",
       "    <tr style=\"text-align: right;\">\n",
       "      <th></th>\n",
       "      <th>id</th>\n",
       "      <th>score</th>\n",
       "      <th>polarity</th>\n",
       "      <th>subjectivity</th>\n",
       "    </tr>\n",
       "  </thead>\n",
       "  <tbody>\n",
       "    <tr>\n",
       "      <th>count</th>\n",
       "      <td>5538.000000</td>\n",
       "      <td>5538.000000</td>\n",
       "      <td>5538.000000</td>\n",
       "      <td>5538.000000</td>\n",
       "    </tr>\n",
       "    <tr>\n",
       "      <th>mean</th>\n",
       "      <td>2785.444204</td>\n",
       "      <td>9570.540628</td>\n",
       "      <td>0.014216</td>\n",
       "      <td>0.222212</td>\n",
       "    </tr>\n",
       "    <tr>\n",
       "      <th>std</th>\n",
       "      <td>1598.923728</td>\n",
       "      <td>19780.778418</td>\n",
       "      <td>0.211412</td>\n",
       "      <td>0.283024</td>\n",
       "    </tr>\n",
       "    <tr>\n",
       "      <th>min</th>\n",
       "      <td>1.000000</td>\n",
       "      <td>0.000000</td>\n",
       "      <td>-1.000000</td>\n",
       "      <td>0.000000</td>\n",
       "    </tr>\n",
       "    <tr>\n",
       "      <th>25%</th>\n",
       "      <td>1401.250000</td>\n",
       "      <td>662.250000</td>\n",
       "      <td>0.000000</td>\n",
       "      <td>0.000000</td>\n",
       "    </tr>\n",
       "    <tr>\n",
       "      <th>50%</th>\n",
       "      <td>2785.500000</td>\n",
       "      <td>1629.000000</td>\n",
       "      <td>0.000000</td>\n",
       "      <td>0.050000</td>\n",
       "    </tr>\n",
       "    <tr>\n",
       "      <th>75%</th>\n",
       "      <td>4169.750000</td>\n",
       "      <td>4757.250000</td>\n",
       "      <td>0.041667</td>\n",
       "      <td>0.427273</td>\n",
       "    </tr>\n",
       "    <tr>\n",
       "      <th>max</th>\n",
       "      <td>5554.000000</td>\n",
       "      <td>181809.000000</td>\n",
       "      <td>1.000000</td>\n",
       "      <td>1.000000</td>\n",
       "    </tr>\n",
       "  </tbody>\n",
       "</table>\n",
       "</div>"
      ],
      "text/plain": [
       "                id          score     polarity  subjectivity\n",
       "count  5538.000000    5538.000000  5538.000000   5538.000000\n",
       "mean   2785.444204    9570.540628     0.014216      0.222212\n",
       "std    1598.923728   19780.778418     0.211412      0.283024\n",
       "min       1.000000       0.000000    -1.000000      0.000000\n",
       "25%    1401.250000     662.250000     0.000000      0.000000\n",
       "50%    2785.500000    1629.000000     0.000000      0.050000\n",
       "75%    4169.750000    4757.250000     0.041667      0.427273\n",
       "max    5554.000000  181809.000000     1.000000      1.000000"
      ]
     },
     "execution_count": 18,
     "metadata": {},
     "output_type": "execute_result"
    }
   ],
   "source": [
    "df.describe()"
   ]
  },
  {
   "cell_type": "code",
   "execution_count": 19,
   "metadata": {},
   "outputs": [
    {
     "name": "stdout",
     "output_type": "stream",
     "text": [
      "Positive: 1449\n",
      "Neutral: 2967\n",
      "Negative: 1122\n"
     ]
    }
   ],
   "source": [
    "positive = df[df['polarity'] > 0.01].reset_index(drop=True)\n",
    "neutral = df[(df['polarity'] >= -0.01) & (df['polarity'] <= 0.01)].reset_index(drop=True)\n",
    "negative = df[df['polarity'] < -0.01].reset_index(drop=True)\n",
    "\n",
    "print(f'Positive: {len(positive)}')\n",
    "print(f'Neutral: {len(neutral)}')\n",
    "print(f'Negative: {len(negative)}')"
   ]
  },
  {
   "cell_type": "code",
   "execution_count": 20,
   "metadata": {},
   "outputs": [
    {
     "data": {
      "image/png": "[encoded data removed]",
      "text/plain": [
       "<Figure size 864x432 with 1 Axes>"
      ]
     },
     "metadata": {
      "needs_background": "light"
     },
     "output_type": "display_data"
    }
   ],
   "source": [
    "counts = [len(positive), len(neutral), len(negative)]\n",
    "labels = ['Positive', 'Neutral', 'Negative']\n",
    "\n",
    "plt.figure(figsize=(12,6))\n",
    "plt.bar(labels, counts)\n",
    "plt.show()"
   ]
  },
  {
   "cell_type": "markdown",
   "metadata": {},
   "source": [
    "# Average subjectivity broken down by sentiment"
   ]
  },
  {
   "cell_type": "markdown",
   "metadata": {},
   "source": [
    "Average subjectivity for positive headlines"
   ]
  },
  {
   "cell_type": "code",
   "execution_count": 21,
   "metadata": {},
   "outputs": [
    {
     "data": {
      "text/plain": [
       "0.4590160202372082"
      ]
     },
     "execution_count": 21,
     "metadata": {},
     "output_type": "execute_result"
    }
   ],
   "source": [
    "sum(positive['subjectivity']) / len(positive)"
   ]
  },
  {
   "cell_type": "markdown",
   "metadata": {},
   "source": [
    "Average subjectivity for neutral headlines"
   ]
  },
  {
   "cell_type": "code",
   "execution_count": 22,
   "metadata": {},
   "outputs": [
    {
     "data": {
      "text/plain": [
       "0.04222273359154041"
      ]
     },
     "execution_count": 22,
     "metadata": {},
     "output_type": "execute_result"
    }
   ],
   "source": [
    "sum(neutral['subjectivity']) / len(neutral)"
   ]
  },
  {
   "cell_type": "markdown",
   "metadata": {},
   "source": [
    "Average subjectivity for negative headlines"
   ]
  },
  {
   "cell_type": "code",
   "execution_count": 23,
   "metadata": {},
   "outputs": [
    {
     "data": {
      "text/plain": [
       "0.392354281191179"
      ]
     },
     "execution_count": 23,
     "metadata": {},
     "output_type": "execute_result"
    }
   ],
   "source": [
    "sum(negative['subjectivity']) / len(negative)"
   ]
  },
  {
   "cell_type": "code",
   "execution_count": 24,
   "metadata": {
    "scrolled": true
   },
   "outputs": [
    {
     "data": {
      "text/html": [
       "<div>\n",
       "<style scoped>\n",
       "    .dataframe tbody tr th:only-of-type {\n",
       "        vertical-align: middle;\n",
       "    }\n",
       "\n",
       "    .dataframe tbody tr th {\n",
       "        vertical-align: top;\n",
       "    }\n",
       "\n",
       "    .dataframe thead th {\n",
       "        text-align: right;\n",
       "    }\n",
       "</style>\n",
       "<table border=\"1\" class=\"dataframe\">\n",
       "  <thead>\n",
       "    <tr style=\"text-align: right;\">\n",
       "      <th></th>\n",
       "      <th>id</th>\n",
       "      <th>post_id</th>\n",
       "      <th>post_title</th>\n",
       "      <th>url</th>\n",
       "      <th>score</th>\n",
       "      <th>publisher</th>\n",
       "      <th>headline</th>\n",
       "      <th>date_published</th>\n",
       "      <th>content</th>\n",
       "      <th>polarity</th>\n",
       "      <th>subjectivity</th>\n",
       "    </tr>\n",
       "  </thead>\n",
       "  <tbody>\n",
       "    <tr>\n",
       "      <th>4634</th>\n",
       "      <td>4651</td>\n",
       "      <td>kt6r94</td>\n",
       "      <td>Trudeau says 'shocking' riot in Washington was...</td>\n",
       "      <td>https://www.cbc.ca/news/politics/riots-washing...</td>\n",
       "      <td>90877</td>\n",
       "      <td>cbc</td>\n",
       "      <td>Trudeau says 'shocking' riot in Washington was...</td>\n",
       "      <td>None</td>\n",
       "      <td>Prime Minister Justin Trudeau said today this ...</td>\n",
       "      <td>-1.0</td>\n",
       "      <td>1.0</td>\n",
       "    </tr>\n",
       "    <tr>\n",
       "      <th>4384</th>\n",
       "      <td>4401</td>\n",
       "      <td>khmo4x</td>\n",
       "      <td>Hundreds of children stood trial for ‘insultin...</td>\n",
       "      <td>https://english.alarabiya.net/en/News/middle-e...</td>\n",
       "      <td>10280</td>\n",
       "      <td>alarabiya</td>\n",
       "      <td>Hundreds of children stood trial for ‘insultin...</td>\n",
       "      <td>2020-12-20 00:00:00</td>\n",
       "      <td>Figures have shown 903 minors – including 264 ...</td>\n",
       "      <td>-1.0</td>\n",
       "      <td>1.0</td>\n",
       "    </tr>\n",
       "    <tr>\n",
       "      <th>5113</th>\n",
       "      <td>5130</td>\n",
       "      <td>li2znb</td>\n",
       "      <td>These satellite images capture the enormity of...</td>\n",
       "      <td>https://www.abc.net.au/news/2021-02-11/satelli...</td>\n",
       "      <td>220</td>\n",
       "      <td>abc</td>\n",
       "      <td>These satellite images capture the enormity of...</td>\n",
       "      <td>2021-02-11 00:00:00</td>\n",
       "      <td>These satellite images capture the enormity of...</td>\n",
       "      <td>-1.0</td>\n",
       "      <td>1.0</td>\n",
       "    </tr>\n",
       "    <tr>\n",
       "      <th>5220</th>\n",
       "      <td>5237</td>\n",
       "      <td>lnjd17</td>\n",
       "      <td>John Kerry says Earth has 9 years to avert the...</td>\n",
       "      <td>https://www.cbsnews.com/news/climate-change-9-...</td>\n",
       "      <td>1383</td>\n",
       "      <td>cbsnews</td>\n",
       "      <td>John Kerry says Earth has 9 years to avert the...</td>\n",
       "      <td>None</td>\n",
       "      <td>The wild winter weather this week has been cal...</td>\n",
       "      <td>-1.0</td>\n",
       "      <td>1.0</td>\n",
       "    </tr>\n",
       "    <tr>\n",
       "      <th>195</th>\n",
       "      <td>212</td>\n",
       "      <td>g159eh</td>\n",
       "      <td>Cruel Bear Bile Industry Thrives Despite Pande...</td>\n",
       "      <td>http://www.guelphnow.ca/npps/story.cfm?nppage=...</td>\n",
       "      <td>28</td>\n",
       "      <td>guelphnow</td>\n",
       "      <td>Cruel Bear Bile Industry Thrives Despite Pande...</td>\n",
       "      <td>None</td>\n",
       "      <td>Bears caged so bile can be extracted from thei...</td>\n",
       "      <td>-1.0</td>\n",
       "      <td>1.0</td>\n",
       "    </tr>\n",
       "    <tr>\n",
       "      <th>...</th>\n",
       "      <td>...</td>\n",
       "      <td>...</td>\n",
       "      <td>...</td>\n",
       "      <td>...</td>\n",
       "      <td>...</td>\n",
       "      <td>...</td>\n",
       "      <td>...</td>\n",
       "      <td>...</td>\n",
       "      <td>...</td>\n",
       "      <td>...</td>\n",
       "      <td>...</td>\n",
       "    </tr>\n",
       "    <tr>\n",
       "      <th>4128</th>\n",
       "      <td>4145</td>\n",
       "      <td>k6nyrc</td>\n",
       "      <td>Legendary Afghan pilot in hiding after U.S. re...</td>\n",
       "      <td>https://www.washingtonpost.com/national-securi...</td>\n",
       "      <td>3176</td>\n",
       "      <td>washingtonpost</td>\n",
       "      <td>Legendary Afghan pilot in hiding after U.S. re...</td>\n",
       "      <td>2020-12-03 00:00:00</td>\n",
       "      <td>His actions were featured in a video by the U....</td>\n",
       "      <td>1.0</td>\n",
       "      <td>1.0</td>\n",
       "    </tr>\n",
       "    <tr>\n",
       "      <th>2676</th>\n",
       "      <td>2693</td>\n",
       "      <td>ikjgb7</td>\n",
       "      <td>Ice Sheet Melting Is Perfectly in Line With Ou...</td>\n",
       "      <td>https://www.sciencealert.com/ice-sheet-melting...</td>\n",
       "      <td>5249</td>\n",
       "      <td>sciencealert</td>\n",
       "      <td>Ice Sheet Melting Is Perfectly in Line With Ou...</td>\n",
       "      <td>None</td>\n",
       "      <td>The Greenland and Antarctic ice sheets, which ...</td>\n",
       "      <td>1.0</td>\n",
       "      <td>1.0</td>\n",
       "    </tr>\n",
       "    <tr>\n",
       "      <th>3181</th>\n",
       "      <td>3198</td>\n",
       "      <td>j5jnzc</td>\n",
       "      <td>Coronavirus has infected maximum of 10% of wor...</td>\n",
       "      <td>https://www.independent.co.uk/news/world/coron...</td>\n",
       "      <td>342</td>\n",
       "      <td>independent</td>\n",
       "      <td>Coronavirus has infected 10% of world populati...</td>\n",
       "      <td>2020-10-05 11:52:42</td>\n",
       "      <td>Around 10 per cent of the global population ma...</td>\n",
       "      <td>1.0</td>\n",
       "      <td>0.3</td>\n",
       "    </tr>\n",
       "    <tr>\n",
       "      <th>2858</th>\n",
       "      <td>2875</td>\n",
       "      <td>irnwqg</td>\n",
       "      <td>39,000-year-old cave bear is discovered perfec...</td>\n",
       "      <td>https://www.dailymail.co.uk/news/article-87259...</td>\n",
       "      <td>27753</td>\n",
       "      <td>dailymail</td>\n",
       "      <td>39,000-year-old cave bear is discovered perfec...</td>\n",
       "      <td>2020-09-12 17:28:24</td>\n",
       "      <td>Russian scientists have discovered a 39,000-ye...</td>\n",
       "      <td>1.0</td>\n",
       "      <td>1.0</td>\n",
       "    </tr>\n",
       "    <tr>\n",
       "      <th>519</th>\n",
       "      <td>536</td>\n",
       "      <td>g1nm5f</td>\n",
       "      <td>Germany says WHO is one of best investments af...</td>\n",
       "      <td>https://www.reuters.com/article/us-health-coro...</td>\n",
       "      <td>5729</td>\n",
       "      <td>reuters</td>\n",
       "      <td>Germany says WHO is one of best investments af...</td>\n",
       "      <td>2020-04-15 11:09:26</td>\n",
       "      <td>FILE PHOTO: German Foreign Minister Heiko Maas...</td>\n",
       "      <td>1.0</td>\n",
       "      <td>0.3</td>\n",
       "    </tr>\n",
       "  </tbody>\n",
       "</table>\n",
       "<p>5538 rows × 11 columns</p>\n",
       "</div>"
      ],
      "text/plain": [
       "        id post_id                                         post_title  \\\n",
       "4634  4651  kt6r94  Trudeau says 'shocking' riot in Washington was...   \n",
       "4384  4401  khmo4x  Hundreds of children stood trial for ‘insultin...   \n",
       "5113  5130  li2znb  These satellite images capture the enormity of...   \n",
       "5220  5237  lnjd17  John Kerry says Earth has 9 years to avert the...   \n",
       "195    212  g159eh  Cruel Bear Bile Industry Thrives Despite Pande...   \n",
       "...    ...     ...                                                ...   \n",
       "4128  4145  k6nyrc  Legendary Afghan pilot in hiding after U.S. re...   \n",
       "2676  2693  ikjgb7  Ice Sheet Melting Is Perfectly in Line With Ou...   \n",
       "3181  3198  j5jnzc  Coronavirus has infected maximum of 10% of wor...   \n",
       "2858  2875  irnwqg  39,000-year-old cave bear is discovered perfec...   \n",
       "519    536  g1nm5f  Germany says WHO is one of best investments af...   \n",
       "\n",
       "                                                    url  score  \\\n",
       "4634  https://www.cbc.ca/news/politics/riots-washing...  90877   \n",
       "4384  https://english.alarabiya.net/en/News/middle-e...  10280   \n",
       "5113  https://www.abc.net.au/news/2021-02-11/satelli...    220   \n",
       "5220  https://www.cbsnews.com/news/climate-change-9-...   1383   \n",
       "195   http://www.guelphnow.ca/npps/story.cfm?nppage=...     28   \n",
       "...                                                 ...    ...   \n",
       "4128  https://www.washingtonpost.com/national-securi...   3176   \n",
       "2676  https://www.sciencealert.com/ice-sheet-melting...   5249   \n",
       "3181  https://www.independent.co.uk/news/world/coron...    342   \n",
       "2858  https://www.dailymail.co.uk/news/article-87259...  27753   \n",
       "519   https://www.reuters.com/article/us-health-coro...   5729   \n",
       "\n",
       "           publisher                                           headline  \\\n",
       "4634             cbc  Trudeau says 'shocking' riot in Washington was...   \n",
       "4384       alarabiya  Hundreds of children stood trial for ‘insultin...   \n",
       "5113             abc  These satellite images capture the enormity of...   \n",
       "5220         cbsnews  John Kerry says Earth has 9 years to avert the...   \n",
       "195        guelphnow  Cruel Bear Bile Industry Thrives Despite Pande...   \n",
       "...              ...                                                ...   \n",
       "4128  washingtonpost  Legendary Afghan pilot in hiding after U.S. re...   \n",
       "2676    sciencealert  Ice Sheet Melting Is Perfectly in Line With Ou...   \n",
       "3181     independent  Coronavirus has infected 10% of world populati...   \n",
       "2858       dailymail  39,000-year-old cave bear is discovered perfec...   \n",
       "519          reuters  Germany says WHO is one of best investments af...   \n",
       "\n",
       "           date_published                                            content  \\\n",
       "4634                 None  Prime Minister Justin Trudeau said today this ...   \n",
       "4384  2020-12-20 00:00:00  Figures have shown 903 minors – including 264 ...   \n",
       "5113  2021-02-11 00:00:00  These satellite images capture the enormity of...   \n",
       "5220                 None  The wild winter weather this week has been cal...   \n",
       "195                  None  Bears caged so bile can be extracted from thei...   \n",
       "...                   ...                                                ...   \n",
       "4128  2020-12-03 00:00:00  His actions were featured in a video by the U....   \n",
       "2676                 None  The Greenland and Antarctic ice sheets, which ...   \n",
       "3181  2020-10-05 11:52:42  Around 10 per cent of the global population ma...   \n",
       "2858  2020-09-12 17:28:24  Russian scientists have discovered a 39,000-ye...   \n",
       "519   2020-04-15 11:09:26  FILE PHOTO: German Foreign Minister Heiko Maas...   \n",
       "\n",
       "      polarity  subjectivity  \n",
       "4634      -1.0           1.0  \n",
       "4384      -1.0           1.0  \n",
       "5113      -1.0           1.0  \n",
       "5220      -1.0           1.0  \n",
       "195       -1.0           1.0  \n",
       "...        ...           ...  \n",
       "4128       1.0           1.0  \n",
       "2676       1.0           1.0  \n",
       "3181       1.0           0.3  \n",
       "2858       1.0           1.0  \n",
       "519        1.0           0.3  \n",
       "\n",
       "[5538 rows x 11 columns]"
      ]
     },
     "execution_count": 24,
     "metadata": {},
     "output_type": "execute_result"
    }
   ],
   "source": [
    "sorted_df = df.sort_values('polarity')\n",
    "sorted_df"
   ]
  },
  {
   "cell_type": "code",
   "execution_count": 26,
   "metadata": {},
   "outputs": [
    {
     "data": {
      "image/png": "[encoded data removed]",
      "text/plain": [
       "<Figure size 1152x576 with 1 Axes>"
      ]
     },
     "metadata": {
      "needs_background": "light"
     },
     "output_type": "display_data"
    }
   ],
   "source": [
    "plt.figure(figsize=(16,8))\n",
    "plt.scatter(sorted_df['polarity'], sorted_df['subjectivity'])\n",
    "plt.xlabel('polarity', fontsize=16)\n",
    "plt.ylabel('subjectivity', fontsize=16)\n",
    "plt.show()"
   ]
  },
  {
   "cell_type": "code",
   "execution_count": null,
   "metadata": {},
   "outputs": [],
   "source": []
  }
 ],
 "metadata": {
  "kernelspec": {
   "display_name": "Python 3",
   "language": "python",
   "name": "python3"
  },
  "language_info": {
   "codemirror_mode": {
    "name": "ipython",
    "version": 3
   },
   "file_extension": ".py",
   "mimetype": "text/x-python",
   "name": "python",
   "nbconvert_exporter": "python",
   "pygments_lexer": "ipython3",
   "version": "3.8.5"
  }
 },
 "nbformat": 4,
 "nbformat_minor": 4
}
