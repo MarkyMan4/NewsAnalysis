{
 "cells": [
  {
   "cell_type": "code",
   "execution_count": 1,
   "metadata": {},
   "outputs": [],
   "source": [
    "import pandas as pd\n",
    "from sqlalchemy import create_engine\n",
    "from datetime import datetime\n",
    "from textblob import TextBlob\n",
    "import matplotlib.pyplot as plt"
   ]
  },
  {
   "cell_type": "code",
   "execution_count": 2,
   "metadata": {
    "scrolled": true
   },
   "outputs": [
    {
     "data": {
      "text/html": [
       "<div>\n",
       "<style scoped>\n",
       "    .dataframe tbody tr th:only-of-type {\n",
       "        vertical-align: middle;\n",
       "    }\n",
       "\n",
       "    .dataframe tbody tr th {\n",
       "        vertical-align: top;\n",
       "    }\n",
       "\n",
       "    .dataframe thead th {\n",
       "        text-align: right;\n",
       "    }\n",
       "</style>\n",
       "<table border=\"1\" class=\"dataframe\">\n",
       "  <thead>\n",
       "    <tr style=\"text-align: right;\">\n",
       "      <th></th>\n",
       "      <th>id</th>\n",
       "      <th>post_id</th>\n",
       "      <th>post_title</th>\n",
       "      <th>url</th>\n",
       "      <th>score</th>\n",
       "      <th>publisher</th>\n",
       "      <th>headline</th>\n",
       "      <th>date_published</th>\n",
       "      <th>content</th>\n",
       "    </tr>\n",
       "  </thead>\n",
       "  <tbody>\n",
       "    <tr>\n",
       "      <th>0</th>\n",
       "      <td>1</td>\n",
       "      <td>fra8wl</td>\n",
       "      <td>Top US general resists Trump administration?s ...</td>\n",
       "      <td>https://mondoweiss.net/2020/03/top-u-s-general...</td>\n",
       "      <td>10285</td>\n",
       "      <td>mondoweiss</td>\n",
       "      <td>Top U.S. general resists Trump administration?...</td>\n",
       "      <td>2020-03-28 15:44:00</td>\n",
       "      <td>A brave U.S. army lieutenant general may be ri...</td>\n",
       "    </tr>\n",
       "    <tr>\n",
       "      <th>1</th>\n",
       "      <td>2</td>\n",
       "      <td>frcvgj</td>\n",
       "      <td>Experts believe the explosion of coronavirus c...</td>\n",
       "      <td>https://www.si.com/soccer/2020/03/25/atalanta-...</td>\n",
       "      <td>2854</td>\n",
       "      <td>si</td>\n",
       "      <td>Atalanta vs Valencia linked to accelerating co...</td>\n",
       "      <td>2020-03-25 00:00:00</td>\n",
       "      <td>ROME (AP) ? It was the biggest soccer game in ...</td>\n",
       "    </tr>\n",
       "    <tr>\n",
       "      <th>2</th>\n",
       "      <td>3</td>\n",
       "      <td>fr5uqd</td>\n",
       "      <td>Boris Johnson's government is reportedly furio...</td>\n",
       "      <td>https://www.businessinsider.com/coronavirus-bo...</td>\n",
       "      <td>79397</td>\n",
       "      <td>businessinsider</td>\n",
       "      <td>Boris Johnson's government is reportedly furio...</td>\n",
       "      <td>2020-03-29 00:00:00</td>\n",
       "      <td>UK government officials say there'll be \"recko...</td>\n",
       "    </tr>\n",
       "    <tr>\n",
       "      <th>3</th>\n",
       "      <td>4</td>\n",
       "      <td>fr7uzc</td>\n",
       "      <td>Toyota Gearing Up To Build Ventilators And Fac...</td>\n",
       "      <td>https://www.carscoops.com/2020/03/toyota-geari...</td>\n",
       "      <td>4988</td>\n",
       "      <td>carscoops</td>\n",
       "      <td>Toyota Gearing Up To Build Ventilators And Fac...</td>\n",
       "      <td>2020-03-27 22:36:00</td>\n",
       "      <td>The United States will soon have over 100,000 ...</td>\n",
       "    </tr>\n",
       "    <tr>\n",
       "      <th>4</th>\n",
       "      <td>5</td>\n",
       "      <td>frbkqr</td>\n",
       "      <td>Prime Minister Justin Trudeau says Health Cana...</td>\n",
       "      <td>https://www.ctvnews.ca/health/coronavirus/trud...</td>\n",
       "      <td>2341</td>\n",
       "      <td>ctvnews</td>\n",
       "      <td>Trudeau vows 'no corners cut' in accepting mas...</td>\n",
       "      <td>2020-03-29 13:04:00</td>\n",
       "      <td>TORONTO -- Prime Minister Justin Trudeau says ...</td>\n",
       "    </tr>\n",
       "    <tr>\n",
       "      <th>...</th>\n",
       "      <td>...</td>\n",
       "      <td>...</td>\n",
       "      <td>...</td>\n",
       "      <td>...</td>\n",
       "      <td>...</td>\n",
       "      <td>...</td>\n",
       "      <td>...</td>\n",
       "      <td>...</td>\n",
       "      <td>...</td>\n",
       "    </tr>\n",
       "    <tr>\n",
       "      <th>867</th>\n",
       "      <td>884</td>\n",
       "      <td>gfbygc</td>\n",
       "      <td>A Broadband Engineer Was Spat on by a 5G Consp...</td>\n",
       "      <td>https://www.vice.com/en_us/article/4ayg8g/a-br...</td>\n",
       "      <td>43453</td>\n",
       "      <td>vice</td>\n",
       "      <td>A Broadband Engineer Was Spat on by a 5G Consp...</td>\n",
       "      <td>2020-05-07 15:16:09</td>\n",
       "      <td>Want the best of VICE News straight to your in...</td>\n",
       "    </tr>\n",
       "    <tr>\n",
       "      <th>868</th>\n",
       "      <td>885</td>\n",
       "      <td>gf8z7p</td>\n",
       "      <td>Taiwan refuses to deport caregiver who ‘insult...</td>\n",
       "      <td>https://globalvoices.org/2020/05/07/taiwan-ref...</td>\n",
       "      <td>4066</td>\n",
       "      <td>globalvoices</td>\n",
       "      <td>Taiwan refuses to deport caregiver who ‘insult...</td>\n",
       "      <td>2020-05-07 00:00:00</td>\n",
       "      <td>Taiwan has rejected the request of a Philippin...</td>\n",
       "    </tr>\n",
       "    <tr>\n",
       "      <th>869</th>\n",
       "      <td>886</td>\n",
       "      <td>gfb7eu</td>\n",
       "      <td>Sweden admits a 'big failure' to prevent elder...</td>\n",
       "      <td>https://www.msn.com/en-gb/health/medical/swede...</td>\n",
       "      <td>2208</td>\n",
       "      <td>msn</td>\n",
       "      <td>Sweden admits a 'big failure' to prevent elder...</td>\n",
       "      <td>None</td>\n",
       "      <td>© Getty The Swedish flag in Gothenburg The num...</td>\n",
       "    </tr>\n",
       "    <tr>\n",
       "      <th>870</th>\n",
       "      <td>887</td>\n",
       "      <td>gfe0g8</td>\n",
       "      <td>Trump says he's sending ventilators to Russia ...</td>\n",
       "      <td>https://www.businessinsider.com/trump-is-givin...</td>\n",
       "      <td>992</td>\n",
       "      <td>businessinsider</td>\n",
       "      <td>Trump says he's sending ventilators to Russia ...</td>\n",
       "      <td>2020-05-07 00:00:00</td>\n",
       "      <td>President Donald Trump said he would send vent...</td>\n",
       "    </tr>\n",
       "    <tr>\n",
       "      <th>871</th>\n",
       "      <td>888</td>\n",
       "      <td>gf90s6</td>\n",
       "      <td>Trudeau issues warning to vandals after fourth...</td>\n",
       "      <td>https://www.thestar.com/news/canada/2020/05/06...</td>\n",
       "      <td>1684</td>\n",
       "      <td>thestar</td>\n",
       "      <td>Trudeau issues warning to vandals after fourth...</td>\n",
       "      <td>2020-05-06 00:00:00</td>\n",
       "      <td>Prime Minister Justin Trudeau said vandals set...</td>\n",
       "    </tr>\n",
       "  </tbody>\n",
       "</table>\n",
       "<p>872 rows × 9 columns</p>\n",
       "</div>"
      ],
      "text/plain": [
       "      id post_id                                         post_title  \\\n",
       "0      1  fra8wl  Top US general resists Trump administration?s ...   \n",
       "1      2  frcvgj  Experts believe the explosion of coronavirus c...   \n",
       "2      3  fr5uqd  Boris Johnson's government is reportedly furio...   \n",
       "3      4  fr7uzc  Toyota Gearing Up To Build Ventilators And Fac...   \n",
       "4      5  frbkqr  Prime Minister Justin Trudeau says Health Cana...   \n",
       "..   ...     ...                                                ...   \n",
       "867  884  gfbygc  A Broadband Engineer Was Spat on by a 5G Consp...   \n",
       "868  885  gf8z7p  Taiwan refuses to deport caregiver who ‘insult...   \n",
       "869  886  gfb7eu  Sweden admits a 'big failure' to prevent elder...   \n",
       "870  887  gfe0g8  Trump says he's sending ventilators to Russia ...   \n",
       "871  888  gf90s6  Trudeau issues warning to vandals after fourth...   \n",
       "\n",
       "                                                   url  score  \\\n",
       "0    https://mondoweiss.net/2020/03/top-u-s-general...  10285   \n",
       "1    https://www.si.com/soccer/2020/03/25/atalanta-...   2854   \n",
       "2    https://www.businessinsider.com/coronavirus-bo...  79397   \n",
       "3    https://www.carscoops.com/2020/03/toyota-geari...   4988   \n",
       "4    https://www.ctvnews.ca/health/coronavirus/trud...   2341   \n",
       "..                                                 ...    ...   \n",
       "867  https://www.vice.com/en_us/article/4ayg8g/a-br...  43453   \n",
       "868  https://globalvoices.org/2020/05/07/taiwan-ref...   4066   \n",
       "869  https://www.msn.com/en-gb/health/medical/swede...   2208   \n",
       "870  https://www.businessinsider.com/trump-is-givin...    992   \n",
       "871  https://www.thestar.com/news/canada/2020/05/06...   1684   \n",
       "\n",
       "           publisher                                           headline  \\\n",
       "0         mondoweiss  Top U.S. general resists Trump administration?...   \n",
       "1                 si  Atalanta vs Valencia linked to accelerating co...   \n",
       "2    businessinsider  Boris Johnson's government is reportedly furio...   \n",
       "3          carscoops  Toyota Gearing Up To Build Ventilators And Fac...   \n",
       "4            ctvnews  Trudeau vows 'no corners cut' in accepting mas...   \n",
       "..               ...                                                ...   \n",
       "867             vice  A Broadband Engineer Was Spat on by a 5G Consp...   \n",
       "868     globalvoices  Taiwan refuses to deport caregiver who ‘insult...   \n",
       "869              msn  Sweden admits a 'big failure' to prevent elder...   \n",
       "870  businessinsider  Trump says he's sending ventilators to Russia ...   \n",
       "871          thestar  Trudeau issues warning to vandals after fourth...   \n",
       "\n",
       "          date_published                                            content  \n",
       "0    2020-03-28 15:44:00  A brave U.S. army lieutenant general may be ri...  \n",
       "1    2020-03-25 00:00:00  ROME (AP) ? It was the biggest soccer game in ...  \n",
       "2    2020-03-29 00:00:00  UK government officials say there'll be \"recko...  \n",
       "3    2020-03-27 22:36:00  The United States will soon have over 100,000 ...  \n",
       "4    2020-03-29 13:04:00  TORONTO -- Prime Minister Justin Trudeau says ...  \n",
       "..                   ...                                                ...  \n",
       "867  2020-05-07 15:16:09  Want the best of VICE News straight to your in...  \n",
       "868  2020-05-07 00:00:00  Taiwan has rejected the request of a Philippin...  \n",
       "869                 None  © Getty The Swedish flag in Gothenburg The num...  \n",
       "870  2020-05-07 00:00:00  President Donald Trump said he would send vent...  \n",
       "871  2020-05-06 00:00:00  Prime Minister Justin Trudeau said vandals set...  \n",
       "\n",
       "[872 rows x 9 columns]"
      ]
     },
     "execution_count": 2,
     "metadata": {},
     "output_type": "execute_result"
    }
   ],
   "source": [
    "with open('../secrets.json') as file:\n",
    "    secrets = json.load(file)\n",
    "    connection_string = secrets['connection_string']\n",
    "    \n",
    "db = create_engine(connection_string)\n",
    "df = pd.read_sql('SELECT * FROM NAP.article', con=db)\n",
    "\n",
    "df"
   ]
  },
  {
   "cell_type": "code",
   "execution_count": 3,
   "metadata": {
    "scrolled": true
   },
   "outputs": [
    {
     "data": {
      "text/plain": [
       "0     Top U.S. general resists Trump administration?...\n",
       "1     Atalanta vs Valencia linked to accelerating co...\n",
       "2     Boris Johnson's government is reportedly furio...\n",
       "3     Toyota Gearing Up To Build Ventilators And Fac...\n",
       "4     Trudeau vows 'no corners cut' in accepting mas...\n",
       "5     Endangered sea turtles hatch on Brazil's deser...\n",
       "6     Edward Snowden says COVID-19 could give govern...\n",
       "7     UN Environment Chief Warns ?Nature is Sending ...\n",
       "8     'So easy I thought it was fake': CRA’s CERB sy...\n",
       "9     Wimbledon paid pandemic insurance for almost 2...\n",
       "10    Pope condemns those trying to make quick buck ...\n",
       "11    US intelligence warned in November that corona...\n",
       "12    Donald Trump sends 200 ventilators to the UK a...\n",
       "13    Iran ‘hides 500,000 virus cases,’ says member ...\n",
       "14                                     Are you a robot?\n",
       "Name: headline, dtype: object"
      ]
     },
     "execution_count": 3,
     "metadata": {},
     "output_type": "execute_result"
    }
   ],
   "source": [
    "headlines = df[:15]['headline']\n",
    "headlines"
   ]
  },
  {
   "cell_type": "code",
   "execution_count": 4,
   "metadata": {
    "scrolled": true
   },
   "outputs": [
    {
     "name": "stdout",
     "output_type": "stream",
     "text": [
      "Top U.S. general resists Trump administration?s efforts to provoke war with Iran ? Mondoweiss: 0.28\n",
      "Atalanta vs Valencia linked to accelerating coronavirus spread: 0.0\n",
      "Boris Johnson's government is reportedly furious with China and believes it could have 40 times more coronavirus cases than it claims: 0.5\n",
      "Toyota Gearing Up To Build Ventilators And Face Shields As Mercedes Offers Use Of 3D Printers: 0.1\n",
      "Trudeau vows 'no corners cut' in accepting masks, other supplies from China: -0.12\n",
      "Endangered sea turtles hatch on Brazil's deserted beaches: 0.0\n",
      "Edward Snowden says COVID-19 could give governments invasive new data-collection powers that could last long after the pandemic: 0.03\n",
      "UN Environment Chief Warns ?Nature is Sending Us a Message? Through The Coronavirus Pandemic: 0.0\n",
      "'So easy I thought it was fake': CRA’s CERB system gets stellar reviews in first days of operation: 0.11\n",
      "Wimbledon paid pandemic insurance for almost 20 years. Now it’s getting $141 million: 0.0\n",
      "Pope condemns those trying to make quick buck off coronavirus: 0.33\n",
      "US intelligence warned in November that coronavirus spreading in China could be 'cataclysmic event': report: 0.0\n",
      "Donald Trump sends 200 ventilators to the UK after London called to say it 'needed them desperately': -0.6\n",
      "Iran ‘hides 500,000 virus cases,’ says member country’s anti-virus taskforce: 0.0\n",
      "Are you a robot?: 0.0\n"
     ]
    }
   ],
   "source": [
    "for headline in headlines:\n",
    "    blob = TextBlob(headline)\n",
    "    print(f'{headline}: {round(blob.sentiment.polarity, 2)}')"
   ]
  },
  {
   "cell_type": "code",
   "execution_count": 5,
   "metadata": {},
   "outputs": [
    {
     "name": "stdout",
     "output_type": "stream",
     "text": [
      "Sentiment(polarity=0.7, subjectivity=0.6000000000000001)\n",
      "Sentiment(polarity=0.0, subjectivity=0.0)\n"
     ]
    }
   ],
   "source": [
    "blob1 = TextBlob('I think this is good')\n",
    "blob2 = TextBlob('He won the race')\n",
    "\n",
    "print(blob1.sentiment)\n",
    "print(blob2.sentiment)"
   ]
  },
  {
   "cell_type": "code",
   "execution_count": 6,
   "metadata": {},
   "outputs": [],
   "source": [
    "polarities = []\n",
    "subjectivities = []\n",
    "\n",
    "for i in range(len(df)):\n",
    "    headline = df.iloc[i]['headline']\n",
    "    blob = TextBlob(headline)\n",
    "    \n",
    "    polarities.append(blob.sentiment.polarity)\n",
    "    subjectivities.append(blob.sentiment.subjectivity)"
   ]
  },
  {
   "cell_type": "code",
   "execution_count": 7,
   "metadata": {},
   "outputs": [],
   "source": [
    "df['polarity'] = polarities\n",
    "df['subjectivity'] = subjectivities"
   ]
  },
  {
   "cell_type": "code",
   "execution_count": 8,
   "metadata": {},
   "outputs": [
    {
     "data": {
      "text/html": [
       "<div>\n",
       "<style scoped>\n",
       "    .dataframe tbody tr th:only-of-type {\n",
       "        vertical-align: middle;\n",
       "    }\n",
       "\n",
       "    .dataframe tbody tr th {\n",
       "        vertical-align: top;\n",
       "    }\n",
       "\n",
       "    .dataframe thead th {\n",
       "        text-align: right;\n",
       "    }\n",
       "</style>\n",
       "<table border=\"1\" class=\"dataframe\">\n",
       "  <thead>\n",
       "    <tr style=\"text-align: right;\">\n",
       "      <th></th>\n",
       "      <th>id</th>\n",
       "      <th>score</th>\n",
       "      <th>polarity</th>\n",
       "      <th>subjectivity</th>\n",
       "    </tr>\n",
       "  </thead>\n",
       "  <tbody>\n",
       "    <tr>\n",
       "      <th>count</th>\n",
       "      <td>872.000000</td>\n",
       "      <td>872.000000</td>\n",
       "      <td>872.000000</td>\n",
       "      <td>872.000000</td>\n",
       "    </tr>\n",
       "    <tr>\n",
       "      <th>mean</th>\n",
       "      <td>452.145642</td>\n",
       "      <td>5343.966743</td>\n",
       "      <td>0.008862</td>\n",
       "      <td>0.228747</td>\n",
       "    </tr>\n",
       "    <tr>\n",
       "      <th>std</th>\n",
       "      <td>252.476279</td>\n",
       "      <td>13368.961003</td>\n",
       "      <td>0.210991</td>\n",
       "      <td>0.293094</td>\n",
       "    </tr>\n",
       "    <tr>\n",
       "      <th>min</th>\n",
       "      <td>1.000000</td>\n",
       "      <td>0.000000</td>\n",
       "      <td>-1.000000</td>\n",
       "      <td>0.000000</td>\n",
       "    </tr>\n",
       "    <tr>\n",
       "      <th>25%</th>\n",
       "      <td>234.750000</td>\n",
       "      <td>17.000000</td>\n",
       "      <td>0.000000</td>\n",
       "      <td>0.000000</td>\n",
       "    </tr>\n",
       "    <tr>\n",
       "      <th>50%</th>\n",
       "      <td>452.500000</td>\n",
       "      <td>498.000000</td>\n",
       "      <td>0.000000</td>\n",
       "      <td>0.000000</td>\n",
       "    </tr>\n",
       "    <tr>\n",
       "      <th>75%</th>\n",
       "      <td>670.250000</td>\n",
       "      <td>2855.500000</td>\n",
       "      <td>0.000000</td>\n",
       "      <td>0.438163</td>\n",
       "    </tr>\n",
       "    <tr>\n",
       "      <th>max</th>\n",
       "      <td>888.000000</td>\n",
       "      <td>91149.000000</td>\n",
       "      <td>1.000000</td>\n",
       "      <td>1.000000</td>\n",
       "    </tr>\n",
       "  </tbody>\n",
       "</table>\n",
       "</div>"
      ],
      "text/plain": [
       "               id         score    polarity  subjectivity\n",
       "count  872.000000    872.000000  872.000000    872.000000\n",
       "mean   452.145642   5343.966743    0.008862      0.228747\n",
       "std    252.476279  13368.961003    0.210991      0.293094\n",
       "min      1.000000      0.000000   -1.000000      0.000000\n",
       "25%    234.750000     17.000000    0.000000      0.000000\n",
       "50%    452.500000    498.000000    0.000000      0.000000\n",
       "75%    670.250000   2855.500000    0.000000      0.438163\n",
       "max    888.000000  91149.000000    1.000000      1.000000"
      ]
     },
     "execution_count": 8,
     "metadata": {},
     "output_type": "execute_result"
    }
   ],
   "source": [
    "df.describe()"
   ]
  },
  {
   "cell_type": "code",
   "execution_count": 9,
   "metadata": {},
   "outputs": [
    {
     "name": "stdout",
     "output_type": "stream",
     "text": [
      "Positive: 213\n",
      "Neutral: 487\n",
      "Negative: 172\n"
     ]
    }
   ],
   "source": [
    "positive = df[df['polarity'] > 0.01].reset_index(drop=True)\n",
    "neutral = df[(df['polarity'] >= -0.01) & (df['polarity'] <= 0.01)].reset_index(drop=True)\n",
    "negative = df[df['polarity'] < -0.01].reset_index(drop=True)\n",
    "\n",
    "print(f'Positive: {len(positive)}')\n",
    "print(f'Neutral: {len(neutral)}')\n",
    "print(f'Negative: {len(negative)}')"
   ]
  },
  {
   "cell_type": "code",
   "execution_count": 10,
   "metadata": {},
   "outputs": [
    {
     "data": {
      "image/png": "[encoded data removed]",
      "text/plain": [
       "<Figure size 864x432 with 1 Axes>"
      ]
     },
     "metadata": {
      "needs_background": "light"
     },
     "output_type": "display_data"
    }
   ],
   "source": [
    "counts = [len(positive), len(neutral), len(negative)]\n",
    "labels = ['Positive', 'Neutral', 'Negative']\n",
    "\n",
    "plt.figure(figsize=(12,6))\n",
    "plt.bar(labels, counts)\n",
    "plt.show()"
   ]
  },
  {
   "cell_type": "markdown",
   "metadata": {},
   "source": [
    "# Average subjectivity broken down by sentiment"
   ]
  },
  {
   "cell_type": "markdown",
   "metadata": {},
   "source": [
    "Average subjectivity for positive headlines"
   ]
  },
  {
   "cell_type": "code",
   "execution_count": 11,
   "metadata": {},
   "outputs": [
    {
     "data": {
      "text/plain": [
       "0.46429615741587554"
      ]
     },
     "execution_count": 11,
     "metadata": {},
     "output_type": "execute_result"
    }
   ],
   "source": [
    "sum(positive['subjectivity']) / len(positive)"
   ]
  },
  {
   "cell_type": "markdown",
   "metadata": {},
   "source": [
    "Average subjectivity for neutral headlines"
   ]
  },
  {
   "cell_type": "code",
   "execution_count": 12,
   "metadata": {},
   "outputs": [
    {
     "data": {
      "text/plain": [
       "0.0474106939148007"
      ]
     },
     "execution_count": 12,
     "metadata": {},
     "output_type": "execute_result"
    }
   ],
   "source": [
    "sum(neutral['subjectivity']) / len(neutral)"
   ]
  },
  {
   "cell_type": "markdown",
   "metadata": {},
   "source": [
    "Average subjectivity for negative headlines"
   ]
  },
  {
   "cell_type": "code",
   "execution_count": 13,
   "metadata": {},
   "outputs": [
    {
     "data": {
      "text/plain": [
       "0.4504862439455462"
      ]
     },
     "execution_count": 13,
     "metadata": {},
     "output_type": "execute_result"
    }
   ],
   "source": [
    "sum(negative['subjectivity']) / len(negative)"
   ]
  },
  {
   "cell_type": "code",
   "execution_count": 14,
   "metadata": {
    "scrolled": true
   },
   "outputs": [
    {
     "data": {
      "text/html": [
       "<div>\n",
       "<style scoped>\n",
       "    .dataframe tbody tr th:only-of-type {\n",
       "        vertical-align: middle;\n",
       "    }\n",
       "\n",
       "    .dataframe tbody tr th {\n",
       "        vertical-align: top;\n",
       "    }\n",
       "\n",
       "    .dataframe thead th {\n",
       "        text-align: right;\n",
       "    }\n",
       "</style>\n",
       "<table border=\"1\" class=\"dataframe\">\n",
       "  <thead>\n",
       "    <tr style=\"text-align: right;\">\n",
       "      <th></th>\n",
       "      <th>id</th>\n",
       "      <th>post_id</th>\n",
       "      <th>post_title</th>\n",
       "      <th>url</th>\n",
       "      <th>score</th>\n",
       "      <th>publisher</th>\n",
       "      <th>headline</th>\n",
       "      <th>date_published</th>\n",
       "      <th>content</th>\n",
       "      <th>polarity</th>\n",
       "      <th>subjectivity</th>\n",
       "    </tr>\n",
       "  </thead>\n",
       "  <tbody>\n",
       "    <tr>\n",
       "      <th>195</th>\n",
       "      <td>212</td>\n",
       "      <td>g159eh</td>\n",
       "      <td>Cruel Bear Bile Industry Thrives Despite Pande...</td>\n",
       "      <td>http://www.guelphnow.ca/npps/story.cfm?nppage=...</td>\n",
       "      <td>28</td>\n",
       "      <td>guelphnow</td>\n",
       "      <td>Cruel Bear Bile Industry Thrives Despite Pande...</td>\n",
       "      <td>None</td>\n",
       "      <td>Bears caged so bile can be extracted from thei...</td>\n",
       "      <td>-1.000</td>\n",
       "      <td>1.00</td>\n",
       "    </tr>\n",
       "    <tr>\n",
       "      <th>16</th>\n",
       "      <td>24</td>\n",
       "      <td>fz3fb1</td>\n",
       "      <td>UK Health secretary Matt Hancock is facing a g...</td>\n",
       "      <td>https://www.independent.co.uk/news/uk/politics...</td>\n",
       "      <td>37301</td>\n",
       "      <td>independent</td>\n",
       "      <td>Coronavirus: Lack of PPE ‘shocking indictment’...</td>\n",
       "      <td>2020-04-11 09:23:00</td>\n",
       "      <td>Health secretary Matt Hancock is facing a grow...</td>\n",
       "      <td>-1.000</td>\n",
       "      <td>1.00</td>\n",
       "    </tr>\n",
       "    <tr>\n",
       "      <th>65</th>\n",
       "      <td>82</td>\n",
       "      <td>g1dlv1</td>\n",
       "      <td>Fearful of virus return, Beijing turns into vi...</td>\n",
       "      <td>https://www.afp.com/en/news/3954/fearful-virus...</td>\n",
       "      <td>186</td>\n",
       "      <td>afp</td>\n",
       "      <td>Fearful of virus return, Beijing turns into vi...</td>\n",
       "      <td>None</td>\n",
       "      <td>AFP/File / NICOLAS ASFOURI Beijing's coronavir...</td>\n",
       "      <td>-0.900</td>\n",
       "      <td>1.00</td>\n",
       "    </tr>\n",
       "    <tr>\n",
       "      <th>471</th>\n",
       "      <td>488</td>\n",
       "      <td>g165fw</td>\n",
       "      <td>Fearful of COVID-19 return, Beijing turns into...</td>\n",
       "      <td>https://www.channelnewsasia.com/news/asia/covi...</td>\n",
       "      <td>0</td>\n",
       "      <td>channelnewsasia</td>\n",
       "      <td>Fearful of COVID-19 return, Beijing turns into...</td>\n",
       "      <td>None</td>\n",
       "      <td>BEIJING: Beijing has virtually walled itself o...</td>\n",
       "      <td>-0.900</td>\n",
       "      <td>1.00</td>\n",
       "    </tr>\n",
       "    <tr>\n",
       "      <th>862</th>\n",
       "      <td>879</td>\n",
       "      <td>gf00ia</td>\n",
       "      <td>China Vows To Brutally Crush Hong Kong Pro-Dem...</td>\n",
       "      <td>https://eurasiantimes.com/china-vows-to-brutal...</td>\n",
       "      <td>37216</td>\n",
       "      <td>eurasiantimes</td>\n",
       "      <td>China Vows To Brutally Crush Hong-Kong Protesters</td>\n",
       "      <td>2020-05-06 14:33:28</td>\n",
       "      <td>The tensions between China and Taiwan, so the ...</td>\n",
       "      <td>-0.875</td>\n",
       "      <td>1.00</td>\n",
       "    </tr>\n",
       "    <tr>\n",
       "      <th>...</th>\n",
       "      <td>...</td>\n",
       "      <td>...</td>\n",
       "      <td>...</td>\n",
       "      <td>...</td>\n",
       "      <td>...</td>\n",
       "      <td>...</td>\n",
       "      <td>...</td>\n",
       "      <td>...</td>\n",
       "      <td>...</td>\n",
       "      <td>...</td>\n",
       "      <td>...</td>\n",
       "    </tr>\n",
       "    <tr>\n",
       "      <th>554</th>\n",
       "      <td>571</td>\n",
       "      <td>g339pa</td>\n",
       "      <td>A 16-year-old Iranian chess prodigy has upende...</td>\n",
       "      <td>https://www.cnn.com/2020/04/17/sport/alireza-f...</td>\n",
       "      <td>35701</td>\n",
       "      <td>cnn</td>\n",
       "      <td>16-year-old Iranian shocks chess world no.1 Ma...</td>\n",
       "      <td>2020-04-17 00:00:00</td>\n",
       "      <td>(CNN) A 16-year-old Iranian chess prodigy has ...</td>\n",
       "      <td>0.800</td>\n",
       "      <td>0.40</td>\n",
       "    </tr>\n",
       "    <tr>\n",
       "      <th>249</th>\n",
       "      <td>266</td>\n",
       "      <td>g13l8h</td>\n",
       "      <td>'Tomorrow will be a good day': Briton, 99, rai...</td>\n",
       "      <td>https://uk.reuters.com/article/uk-health-coron...</td>\n",
       "      <td>19</td>\n",
       "      <td>reuters</td>\n",
       "      <td>'They are brave': Briton, 99, raises millions ...</td>\n",
       "      <td>2020-04-14 15:34:52</td>\n",
       "      <td>LONDON (Reuters) - A 99-year-old war veteran h...</td>\n",
       "      <td>0.800</td>\n",
       "      <td>1.00</td>\n",
       "    </tr>\n",
       "    <tr>\n",
       "      <th>859</th>\n",
       "      <td>876</td>\n",
       "      <td>geut91</td>\n",
       "      <td>Nobel Prize winner 'greatly saddened' his name...</td>\n",
       "      <td>https://www.abc.net.au/news/2020-05-07/coronac...</td>\n",
       "      <td>1446</td>\n",
       "      <td>abc</td>\n",
       "      <td>Nobel Prize winner 'greatly saddened' his name...</td>\n",
       "      <td>2020-05-07 00:00:00</td>\n",
       "      <td>As the world grapples with an unprecedented he...</td>\n",
       "      <td>0.800</td>\n",
       "      <td>0.75</td>\n",
       "    </tr>\n",
       "    <tr>\n",
       "      <th>519</th>\n",
       "      <td>536</td>\n",
       "      <td>g1nm5f</td>\n",
       "      <td>Germany says WHO is one of best investments af...</td>\n",
       "      <td>https://www.reuters.com/article/us-health-coro...</td>\n",
       "      <td>5729</td>\n",
       "      <td>reuters</td>\n",
       "      <td>Germany says WHO is one of best investments af...</td>\n",
       "      <td>2020-04-15 11:09:26</td>\n",
       "      <td>FILE PHOTO: German Foreign Minister Heiko Maas...</td>\n",
       "      <td>1.000</td>\n",
       "      <td>0.30</td>\n",
       "    </tr>\n",
       "    <tr>\n",
       "      <th>660</th>\n",
       "      <td>677</td>\n",
       "      <td>g75ro4</td>\n",
       "      <td>Chinese trolls have been harassing news outlet...</td>\n",
       "      <td>https://www.businessinsider.com/pro-china-trol...</td>\n",
       "      <td>1325</td>\n",
       "      <td>businessinsider</td>\n",
       "      <td>Pro-China trolls are doing their best to stoke...</td>\n",
       "      <td>2020-04-24 00:00:00</td>\n",
       "      <td>Chinese trolls have been harassing news outlet...</td>\n",
       "      <td>1.000</td>\n",
       "      <td>0.30</td>\n",
       "    </tr>\n",
       "  </tbody>\n",
       "</table>\n",
       "<p>872 rows × 11 columns</p>\n",
       "</div>"
      ],
      "text/plain": [
       "      id post_id                                         post_title  \\\n",
       "195  212  g159eh  Cruel Bear Bile Industry Thrives Despite Pande...   \n",
       "16    24  fz3fb1  UK Health secretary Matt Hancock is facing a g...   \n",
       "65    82  g1dlv1  Fearful of virus return, Beijing turns into vi...   \n",
       "471  488  g165fw  Fearful of COVID-19 return, Beijing turns into...   \n",
       "862  879  gf00ia  China Vows To Brutally Crush Hong Kong Pro-Dem...   \n",
       "..   ...     ...                                                ...   \n",
       "554  571  g339pa  A 16-year-old Iranian chess prodigy has upende...   \n",
       "249  266  g13l8h  'Tomorrow will be a good day': Briton, 99, rai...   \n",
       "859  876  geut91  Nobel Prize winner 'greatly saddened' his name...   \n",
       "519  536  g1nm5f  Germany says WHO is one of best investments af...   \n",
       "660  677  g75ro4  Chinese trolls have been harassing news outlet...   \n",
       "\n",
       "                                                   url  score  \\\n",
       "195  http://www.guelphnow.ca/npps/story.cfm?nppage=...     28   \n",
       "16   https://www.independent.co.uk/news/uk/politics...  37301   \n",
       "65   https://www.afp.com/en/news/3954/fearful-virus...    186   \n",
       "471  https://www.channelnewsasia.com/news/asia/covi...      0   \n",
       "862  https://eurasiantimes.com/china-vows-to-brutal...  37216   \n",
       "..                                                 ...    ...   \n",
       "554  https://www.cnn.com/2020/04/17/sport/alireza-f...  35701   \n",
       "249  https://uk.reuters.com/article/uk-health-coron...     19   \n",
       "859  https://www.abc.net.au/news/2020-05-07/coronac...   1446   \n",
       "519  https://www.reuters.com/article/us-health-coro...   5729   \n",
       "660  https://www.businessinsider.com/pro-china-trol...   1325   \n",
       "\n",
       "           publisher                                           headline  \\\n",
       "195        guelphnow  Cruel Bear Bile Industry Thrives Despite Pande...   \n",
       "16       independent  Coronavirus: Lack of PPE ‘shocking indictment’...   \n",
       "65               afp  Fearful of virus return, Beijing turns into vi...   \n",
       "471  channelnewsasia  Fearful of COVID-19 return, Beijing turns into...   \n",
       "862    eurasiantimes  China Vows To Brutally Crush Hong-Kong Protesters   \n",
       "..               ...                                                ...   \n",
       "554              cnn  16-year-old Iranian shocks chess world no.1 Ma...   \n",
       "249          reuters  'They are brave': Briton, 99, raises millions ...   \n",
       "859              abc  Nobel Prize winner 'greatly saddened' his name...   \n",
       "519          reuters  Germany says WHO is one of best investments af...   \n",
       "660  businessinsider  Pro-China trolls are doing their best to stoke...   \n",
       "\n",
       "          date_published                                            content  \\\n",
       "195                 None  Bears caged so bile can be extracted from thei...   \n",
       "16   2020-04-11 09:23:00  Health secretary Matt Hancock is facing a grow...   \n",
       "65                  None  AFP/File / NICOLAS ASFOURI Beijing's coronavir...   \n",
       "471                 None  BEIJING: Beijing has virtually walled itself o...   \n",
       "862  2020-05-06 14:33:28  The tensions between China and Taiwan, so the ...   \n",
       "..                   ...                                                ...   \n",
       "554  2020-04-17 00:00:00  (CNN) A 16-year-old Iranian chess prodigy has ...   \n",
       "249  2020-04-14 15:34:52  LONDON (Reuters) - A 99-year-old war veteran h...   \n",
       "859  2020-05-07 00:00:00  As the world grapples with an unprecedented he...   \n",
       "519  2020-04-15 11:09:26  FILE PHOTO: German Foreign Minister Heiko Maas...   \n",
       "660  2020-04-24 00:00:00  Chinese trolls have been harassing news outlet...   \n",
       "\n",
       "     polarity  subjectivity  \n",
       "195    -1.000          1.00  \n",
       "16     -1.000          1.00  \n",
       "65     -0.900          1.00  \n",
       "471    -0.900          1.00  \n",
       "862    -0.875          1.00  \n",
       "..        ...           ...  \n",
       "554     0.800          0.40  \n",
       "249     0.800          1.00  \n",
       "859     0.800          0.75  \n",
       "519     1.000          0.30  \n",
       "660     1.000          0.30  \n",
       "\n",
       "[872 rows x 11 columns]"
      ]
     },
     "execution_count": 14,
     "metadata": {},
     "output_type": "execute_result"
    }
   ],
   "source": [
    "sorted_df = df.sort_values('polarity')\n",
    "sorted_df"
   ]
  },
  {
   "cell_type": "code",
   "execution_count": 15,
   "metadata": {},
   "outputs": [
    {
     "data": {
      "image/png": "[encoded data removed]",
      "text/plain": [
       "<Figure size 1152x576 with 1 Axes>"
      ]
     },
     "metadata": {
      "needs_background": "light"
     },
     "output_type": "display_data"
    }
   ],
   "source": [
    "plt.figure(figsize=(16,8))\n",
    "plt.plot(sorted_df['polarity'], sorted_df['subjectivity'])\n",
    "plt.xlabel('polarity', fontsize=16)\n",
    "plt.ylabel('subjectivity', fontsize=16)\n",
    "plt.show()"
   ]
  }
 ],
 "metadata": {
  "kernelspec": {
   "display_name": "Python 3",
   "language": "python",
   "name": "python3"
  },
  "language_info": {
   "codemirror_mode": {
    "name": "ipython",
    "version": 3
   },
   "file_extension": ".py",
   "mimetype": "text/x-python",
   "name": "python",
   "nbconvert_exporter": "python",
   "pygments_lexer": "ipython3",
   "version": "3.7.5"
  }
 },
 "nbformat": 4,
 "nbformat_minor": 4
}