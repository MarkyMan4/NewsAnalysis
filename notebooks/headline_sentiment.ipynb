{
 "cells": [
  {
   "cell_type": "code",
   "execution_count": 1,
   "metadata": {},
   "outputs": [],
   "source": [
    "import pandas as pd\n",
    "from sqlalchemy import create_engine\n",
    "from datetime import datetime\n",
    "from textblob import TextBlob\n",
    "import matplotlib.pyplot as plt\n",
    "import json"
   ]
  },
  {
   "cell_type": "markdown",
   "metadata": {},
   "source": [
    "### Read articles from database"
   ]
  },
  {
   "cell_type": "code",
   "execution_count": 3,
   "metadata": {
    "scrolled": true
   },
   "outputs": [],
   "source": [
    "with open('../secrets.json') as file:\n",
    "    secrets = json.load(file)\n",
    "    connection_string = secrets['connection_string']\n",
    "\n",
    "db = create_engine(connection_string)\n",
    "df = pd.read_sql('select * from news_article', con=db)"
   ]
  },
  {
   "cell_type": "markdown",
   "metadata": {},
   "source": [
    "### Test out sentiment with a small sample of articles"
   ]
  },
  {
   "cell_type": "code",
   "execution_count": 4,
   "metadata": {
    "scrolled": true
   },
   "outputs": [
    {
     "data": {
      "text/plain": [
       "0     Norway: Dozens hospitalized after underground ...\n",
       "1     Borders Closing: Hungary to Revive Restrictive...\n",
       "2     The Only Mongolian-Language Social Media Site ...\n",
       "3     Boris Johnson 'can't be trusted' on foreign ai...\n",
       "4     Denied Fair Trial and Disregarded for 238 Days...\n",
       "5     Coronavirus: India crosses 80,000 cases in a d...\n",
       "6     With Canada and Mexico borders closed, America...\n",
       "7     Two teen boys ‘tortured, raped and buried aliv...\n",
       "8     UNPO: Southern Mongolia: Mother Tongue to be R...\n",
       "9     French magazine’s depiction of lawmaker as a s...\n",
       "10    Baltic states blacklist Lukashenko, other Bela...\n",
       "11    Alleged ‘covidiots’ force all passengers on Gr...\n",
       "12    Yegor Zhukov: Leading Russian opposition blogg...\n",
       "13    Facebook bans all QAnon groups as dangerous am...\n",
       "14    Ontario ombudsman blasts ‘outdated’ police tra...\n",
       "Name: headline, dtype: object"
      ]
     },
     "execution_count": 4,
     "metadata": {},
     "output_type": "execute_result"
    }
   ],
   "source": [
    "headlines = df[:15]['headline']\n",
    "headlines"
   ]
  },
  {
   "cell_type": "code",
   "execution_count": 5,
   "metadata": {
    "scrolled": true
   },
   "outputs": [
    {
     "name": "stdout",
     "output_type": "stream",
     "text": [
      "Norway: Dozens hospitalized after underground bunker party: 0.0\n",
      "Borders Closing: Hungary to Revive Restrictive Measures on Sept 1: 0.0\n",
      "The Only Mongolian-Language Social Media Site Was Shut Down in China: -0.04\n",
      "Boris Johnson 'can't be trusted' on foreign aid as millions sent to China revealed: -0.12\n",
      "Denied Fair Trial and Disregarded for 238 Days! Kurdish Activist Dies of Hunger Strike in Turkish Jail: 0.39\n",
      "Coronavirus: India crosses 80,000 cases in a day, first country to do so: 0.25\n",
      "With Canada and Mexico borders closed, Americans are trapped in their own healthcare system: 0.1\n",
      "Two teen boys ‘tortured, raped and buried alive’ in Sweden: 0.05\n",
      "UNPO: Southern Mongolia: Mother Tongue to be Removed from Schools: 0.0\n",
      "French magazine’s depiction of lawmaker as a slave in chains sparks outrage: 0.0\n",
      "Baltic states blacklist Lukashenko, other Belarusian officials: -0.12\n",
      "Alleged ‘covidiots’ force all passengers on Greece-U.K. flight into quarantine: -0.1\n",
      "Yegor Zhukov: Leading Russian opposition blogger beaten up: 0.0\n",
      "Facebook bans all QAnon groups as dangerous amid surging misinformation: -0.6\n",
      "Ontario ombudsman blasts ‘outdated’ police training tool that emphasizes weapons over de-escalation, despite repeated calls for change: -0.4\n"
     ]
    }
   ],
   "source": [
    "for headline in headlines:\n",
    "    blob = TextBlob(headline)\n",
    "    print(f'{headline}: {round(blob.sentiment.polarity, 2)}')"
   ]
  },
  {
   "cell_type": "markdown",
   "metadata": {},
   "source": [
    "### A little test for textblob"
   ]
  },
  {
   "cell_type": "code",
   "execution_count": 6,
   "metadata": {},
   "outputs": [
    {
     "name": "stdout",
     "output_type": "stream",
     "text": [
      "Sentiment(polarity=0.7, subjectivity=0.6000000000000001)\n",
      "Sentiment(polarity=0.0, subjectivity=0.0)\n"
     ]
    }
   ],
   "source": [
    "blob1 = TextBlob('I think this is good')\n",
    "blob2 = TextBlob('He won the race')\n",
    "\n",
    "print(blob1.sentiment)\n",
    "print(blob2.sentiment)"
   ]
  },
  {
   "cell_type": "markdown",
   "metadata": {},
   "source": [
    "### Read all headlines and get the sentiment and subjectivity for each one, then add to dataframe"
   ]
  },
  {
   "cell_type": "code",
   "execution_count": 8,
   "metadata": {},
   "outputs": [],
   "source": [
    "polarities = []\n",
    "subjectivities = []\n",
    "\n",
    "for i in range(len(df)):\n",
    "    headline = df.iloc[i]['headline']\n",
    "    blob = TextBlob(headline)\n",
    "    \n",
    "    polarities.append(blob.sentiment.polarity)\n",
    "    subjectivities.append(blob.sentiment.subjectivity)"
   ]
  },
  {
   "cell_type": "code",
   "execution_count": 9,
   "metadata": {},
   "outputs": [],
   "source": [
    "df['polarity'] = polarities\n",
    "df['subjectivity'] = subjectivities"
   ]
  },
  {
   "cell_type": "code",
   "execution_count": 10,
   "metadata": {},
   "outputs": [
    {
     "data": {
      "text/html": [
       "<div>\n",
       "<style scoped>\n",
       "    .dataframe tbody tr th:only-of-type {\n",
       "        vertical-align: middle;\n",
       "    }\n",
       "\n",
       "    .dataframe tbody tr th {\n",
       "        vertical-align: top;\n",
       "    }\n",
       "\n",
       "    .dataframe thead th {\n",
       "        text-align: right;\n",
       "    }\n",
       "</style>\n",
       "<table border=\"1\" class=\"dataframe\">\n",
       "  <thead>\n",
       "    <tr style=\"text-align: right;\">\n",
       "      <th></th>\n",
       "      <th>id</th>\n",
       "      <th>score</th>\n",
       "      <th>polarity</th>\n",
       "      <th>subjectivity</th>\n",
       "    </tr>\n",
       "  </thead>\n",
       "  <tbody>\n",
       "    <tr>\n",
       "      <th>count</th>\n",
       "      <td>5625.000000</td>\n",
       "      <td>5625.000000</td>\n",
       "      <td>5625.000000</td>\n",
       "      <td>5625.000000</td>\n",
       "    </tr>\n",
       "    <tr>\n",
       "      <th>mean</th>\n",
       "      <td>2814.000000</td>\n",
       "      <td>9523.348622</td>\n",
       "      <td>0.014469</td>\n",
       "      <td>0.222422</td>\n",
       "    </tr>\n",
       "    <tr>\n",
       "      <th>std</th>\n",
       "      <td>1623.941963</td>\n",
       "      <td>19771.144943</td>\n",
       "      <td>0.212646</td>\n",
       "      <td>0.282802</td>\n",
       "    </tr>\n",
       "    <tr>\n",
       "      <th>min</th>\n",
       "      <td>2.000000</td>\n",
       "      <td>0.000000</td>\n",
       "      <td>-1.000000</td>\n",
       "      <td>0.000000</td>\n",
       "    </tr>\n",
       "    <tr>\n",
       "      <th>25%</th>\n",
       "      <td>1408.000000</td>\n",
       "      <td>654.000000</td>\n",
       "      <td>0.000000</td>\n",
       "      <td>0.000000</td>\n",
       "    </tr>\n",
       "    <tr>\n",
       "      <th>50%</th>\n",
       "      <td>2814.000000</td>\n",
       "      <td>1613.000000</td>\n",
       "      <td>0.000000</td>\n",
       "      <td>0.050000</td>\n",
       "    </tr>\n",
       "    <tr>\n",
       "      <th>75%</th>\n",
       "      <td>4220.000000</td>\n",
       "      <td>4695.000000</td>\n",
       "      <td>0.045455</td>\n",
       "      <td>0.427273</td>\n",
       "    </tr>\n",
       "    <tr>\n",
       "      <th>max</th>\n",
       "      <td>5626.000000</td>\n",
       "      <td>181809.000000</td>\n",
       "      <td>1.000000</td>\n",
       "      <td>1.000000</td>\n",
       "    </tr>\n",
       "  </tbody>\n",
       "</table>\n",
       "</div>"
      ],
      "text/plain": [
       "                id          score     polarity  subjectivity\n",
       "count  5625.000000    5625.000000  5625.000000   5625.000000\n",
       "mean   2814.000000    9523.348622     0.014469      0.222422\n",
       "std    1623.941963   19771.144943     0.212646      0.282802\n",
       "min       2.000000       0.000000    -1.000000      0.000000\n",
       "25%    1408.000000     654.000000     0.000000      0.000000\n",
       "50%    2814.000000    1613.000000     0.000000      0.050000\n",
       "75%    4220.000000    4695.000000     0.045455      0.427273\n",
       "max    5626.000000  181809.000000     1.000000      1.000000"
      ]
     },
     "execution_count": 10,
     "metadata": {},
     "output_type": "execute_result"
    }
   ],
   "source": [
    "df.describe()"
   ]
  },
  {
   "cell_type": "markdown",
   "metadata": {},
   "source": [
    "### Display number of positive, neutral and negative headlines\n",
    "- positive sentiment: polarity > 0.25\n",
    "- neutral sentiment: -0.25 <= polarity <= 0.25\n",
    "- negative sentiment: polarity <= -0.25"
   ]
  },
  {
   "cell_type": "code",
   "execution_count": 19,
   "metadata": {},
   "outputs": [
    {
     "name": "stdout",
     "output_type": "stream",
     "text": [
      "Positive: 487\n",
      "Neutral: 4760\n",
      "Negative: 378\n"
     ]
    }
   ],
   "source": [
    "positive = df[df['polarity'] > 0.25].reset_index(drop=True)\n",
    "neutral = df[(df['polarity'] >= -0.25) & (df['polarity'] <= 0.25)].reset_index(drop=True)\n",
    "negative = df[df['polarity'] < -0.25].reset_index(drop=True)\n",
    "\n",
    "print(f'Positive: {len(positive)}')\n",
    "print(f'Neutral: {len(neutral)}')\n",
    "print(f'Negative: {len(negative)}')"
   ]
  },
  {
   "cell_type": "code",
   "execution_count": 20,
   "metadata": {},
   "outputs": [
    {
     "data": {
      "image/png": "[encoded data removed]",
      "text/plain": [
       "<Figure size 864x432 with 1 Axes>"
      ]
     },
     "metadata": {
      "needs_background": "light"
     },
     "output_type": "display_data"
    }
   ],
   "source": [
    "counts = [len(positive), len(neutral), len(negative)]\n",
    "labels = ['Positive', 'Neutral', 'Negative']\n",
    "\n",
    "plt.figure(figsize=(12,6))\n",
    "plt.bar(labels, counts)\n",
    "plt.show()"
   ]
  },
  {
   "cell_type": "markdown",
   "metadata": {},
   "source": [
    "# Average subjectivity broken down by sentiment"
   ]
  },
  {
   "cell_type": "markdown",
   "metadata": {},
   "source": [
    "Average subjectivity for positive headlines"
   ]
  },
  {
   "cell_type": "code",
   "execution_count": 21,
   "metadata": {},
   "outputs": [
    {
     "data": {
      "text/plain": [
       "0.624174963184203"
      ]
     },
     "execution_count": 21,
     "metadata": {},
     "output_type": "execute_result"
    }
   ],
   "source": [
    "sum(positive['subjectivity']) / len(positive)"
   ]
  },
  {
   "cell_type": "markdown",
   "metadata": {},
   "source": [
    "Average subjectivity for neutral headlines"
   ]
  },
  {
   "cell_type": "code",
   "execution_count": 22,
   "metadata": {},
   "outputs": [
    {
     "data": {
      "text/plain": [
       "0.14981201769557934"
      ]
     },
     "execution_count": 22,
     "metadata": {},
     "output_type": "execute_result"
    }
   ],
   "source": [
    "sum(neutral['subjectivity']) / len(neutral)"
   ]
  },
  {
   "cell_type": "markdown",
   "metadata": {},
   "source": [
    "Average subjectivity for negative headlines"
   ]
  },
  {
   "cell_type": "code",
   "execution_count": 23,
   "metadata": {},
   "outputs": [
    {
     "data": {
      "text/plain": [
       "0.6191743747629982"
      ]
     },
     "execution_count": 23,
     "metadata": {},
     "output_type": "execute_result"
    }
   ],
   "source": [
    "sum(negative['subjectivity']) / len(negative)"
   ]
  },
  {
   "cell_type": "code",
   "execution_count": 24,
   "metadata": {
    "scrolled": true
   },
   "outputs": [],
   "source": [
    "sorted_df = df.sort_values('polarity')"
   ]
  },
  {
   "cell_type": "markdown",
   "metadata": {},
   "source": [
    "### Plot every article showing the relationship between sentiment and subjectivity\n",
    "It seems that when articles are neutral, they are not very subjective. The more positive or negative the sentiment is, the higher the subjectivity, meaning that it is more opinion-based than fact-based."
   ]
  },
  {
   "cell_type": "code",
   "execution_count": 25,
   "metadata": {},
   "outputs": [
    {
     "data": {
      "image/png": "[encoded data removed]",
      "text/plain": [
       "<Figure size 1152x576 with 1 Axes>"
      ]
     },
     "metadata": {
      "needs_background": "light"
     },
     "output_type": "display_data"
    }
   ],
   "source": [
    "plt.figure(figsize=(16,8))\n",
    "plt.scatter(sorted_df['polarity'], sorted_df['subjectivity'])\n",
    "plt.xlabel('polarity', fontsize=16)\n",
    "plt.ylabel('subjectivity', fontsize=16)\n",
    "plt.show()"
   ]
  },
  {
   "cell_type": "markdown",
   "metadata": {},
   "source": []
  }
 ],
 "metadata": {
  "kernelspec": {
   "display_name": "Python 3",
   "language": "python",
   "name": "python3"
  },
  "language_info": {
   "codemirror_mode": {
    "name": "ipython",
    "version": 3
   },
   "file_extension": ".py",
   "mimetype": "text/x-python",
   "name": "python",
   "nbconvert_exporter": "python",
   "pygments_lexer": "ipython3",
   "version": "3.8.5"
  }
 },
 "nbformat": 4,
 "nbformat_minor": 4
}
